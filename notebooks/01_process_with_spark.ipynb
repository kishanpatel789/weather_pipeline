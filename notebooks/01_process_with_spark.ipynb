{
 "cells": [
  {
   "cell_type": "markdown",
   "id": "a640cd06",
   "metadata": {},
   "source": [
    "# Process with Spark\n",
    "2023.01.26\n",
    "\n",
    "Objective: Clean parquetized weather station files. "
   ]
  },
  {
   "cell_type": "code",
   "execution_count": 100,
   "id": "7f9b8f4d",
   "metadata": {},
   "outputs": [],
   "source": [
    "import pyspark\n",
    "from pyspark.sql import SparkSession\n",
    "from pyspark.sql.types import StructType, StructField, StringType, LongType, DateType, DoubleType\n",
    "from pyspark.sql.functions import col, lit, array, explode, arrays_zip, posexplode, \\\n",
    "    sum as sum_, max as max_, min as min_, year, month"
   ]
  },
  {
   "cell_type": "code",
   "execution_count": 2,
   "id": "041ed32a",
   "metadata": {},
   "outputs": [
    {
     "name": "stdout",
     "output_type": "stream",
     "text": [
      "23/01/28 13:18:51 WARN Utils: Your hostname, hp-ubuntu resolves to a loopback address: 127.0.1.1; using 192.168.1.167 instead (on interface wlp1s0)\n",
      "23/01/28 13:18:51 WARN Utils: Set SPARK_LOCAL_IP if you need to bind to another address\n"
     ]
    },
    {
     "name": "stderr",
     "output_type": "stream",
     "text": [
      "Setting default log level to \"WARN\".\n",
      "To adjust logging level use sc.setLogLevel(newLevel). For SparkR, use setLogLevel(newLevel).\n"
     ]
    },
    {
     "name": "stdout",
     "output_type": "stream",
     "text": [
      "23/01/28 13:18:52 WARN NativeCodeLoader: Unable to load native-hadoop library for your platform... using builtin-java classes where applicable\n"
     ]
    }
   ],
   "source": [
    "spark = SparkSession.builder \\\n",
    "    .master(\"local[*]\") \\\n",
    "    .appName('process-weather-stations') \\\n",
    "    .getOrCreate()"
   ]
  },
  {
   "cell_type": "code",
   "execution_count": 7,
   "id": "3beab59f",
   "metadata": {},
   "outputs": [
    {
     "name": "stdout",
     "output_type": "stream",
     "text": [
      "AQC00914594.csv      CQC00914080.csv\t  CQC00914855.csv\r\n",
      "AQC00914594.parquet  CQC00914080.parquet  CQC00914855.parquet\r\n",
      "AQC00914902.csv      CQC00914801.csv\r\n",
      "AQC00914902.parquet  CQC00914801.parquet\r\n"
     ]
    }
   ],
   "source": [
    "!ls ../data"
   ]
  },
  {
   "cell_type": "code",
   "execution_count": 85,
   "id": "297c5387",
   "metadata": {},
   "outputs": [],
   "source": [
    "df_t = spark.read.parquet('../data/*.parquet')"
   ]
  },
  {
   "cell_type": "code",
   "execution_count": 86,
   "id": "7b7609da",
   "metadata": {},
   "outputs": [
    {
     "data": {
      "text/plain": [
       "27799"
      ]
     },
     "execution_count": 86,
     "metadata": {},
     "output_type": "execute_result"
    }
   ],
   "source": [
    "df_t.count()"
   ]
  },
  {
   "cell_type": "code",
   "execution_count": 10,
   "id": "791d995b",
   "metadata": {},
   "outputs": [
    {
     "name": "stdout",
     "output_type": "stream",
     "text": [
      "root\n",
      " |-- STATION: string (nullable = true)\n",
      " |-- NAME: string (nullable = true)\n",
      " |-- LATITUDE: double (nullable = true)\n",
      " |-- LONGITUDE: double (nullable = true)\n",
      " |-- ELEVATION: double (nullable = true)\n",
      " |-- DATE: date (nullable = true)\n",
      " |-- HR00Val: long (nullable = true)\n",
      " |-- HR00MF: string (nullable = true)\n",
      " |-- HR00QF: string (nullable = true)\n",
      " |-- HR00S1: string (nullable = true)\n",
      " |-- HR00S2: string (nullable = true)\n",
      " |-- HR01Val: long (nullable = true)\n",
      " |-- HR01MF: string (nullable = true)\n",
      " |-- HR01QF: string (nullable = true)\n",
      " |-- HR01S1: string (nullable = true)\n",
      " |-- HR01S2: string (nullable = true)\n",
      " |-- HR02Val: long (nullable = true)\n",
      " |-- HR02MF: string (nullable = true)\n",
      " |-- HR02QF: string (nullable = true)\n",
      " |-- HR02S1: string (nullable = true)\n",
      " |-- HR02S2: string (nullable = true)\n",
      " |-- HR03Val: long (nullable = true)\n",
      " |-- HR03MF: string (nullable = true)\n",
      " |-- HR03QF: string (nullable = true)\n",
      " |-- HR03S1: string (nullable = true)\n",
      " |-- HR03S2: string (nullable = true)\n",
      " |-- HR04Val: long (nullable = true)\n",
      " |-- HR04MF: string (nullable = true)\n",
      " |-- HR04QF: string (nullable = true)\n",
      " |-- HR04S1: string (nullable = true)\n",
      " |-- HR04S2: string (nullable = true)\n",
      " |-- HR05Val: long (nullable = true)\n",
      " |-- HR05MF: string (nullable = true)\n",
      " |-- HR05QF: string (nullable = true)\n",
      " |-- HR05S1: string (nullable = true)\n",
      " |-- HR05S2: string (nullable = true)\n",
      " |-- HR06Val: long (nullable = true)\n",
      " |-- HR06MF: string (nullable = true)\n",
      " |-- HR06QF: string (nullable = true)\n",
      " |-- HR06S1: string (nullable = true)\n",
      " |-- HR06S2: string (nullable = true)\n",
      " |-- HR07Val: long (nullable = true)\n",
      " |-- HR07MF: string (nullable = true)\n",
      " |-- HR07QF: string (nullable = true)\n",
      " |-- HR07S1: string (nullable = true)\n",
      " |-- HR07S2: string (nullable = true)\n",
      " |-- HR08Val: long (nullable = true)\n",
      " |-- HR08MF: string (nullable = true)\n",
      " |-- HR08QF: string (nullable = true)\n",
      " |-- HR08S1: string (nullable = true)\n",
      " |-- HR08S2: string (nullable = true)\n",
      " |-- HR09Val: long (nullable = true)\n",
      " |-- HR09MF: string (nullable = true)\n",
      " |-- HR09QF: string (nullable = true)\n",
      " |-- HR09S1: string (nullable = true)\n",
      " |-- HR09S2: string (nullable = true)\n",
      " |-- HR10Val: long (nullable = true)\n",
      " |-- HR10MF: string (nullable = true)\n",
      " |-- HR10QF: string (nullable = true)\n",
      " |-- HR10S1: string (nullable = true)\n",
      " |-- HR10S2: string (nullable = true)\n",
      " |-- HR11Val: long (nullable = true)\n",
      " |-- HR11MF: string (nullable = true)\n",
      " |-- HR11QF: string (nullable = true)\n",
      " |-- HR11S1: string (nullable = true)\n",
      " |-- HR11S2: string (nullable = true)\n",
      " |-- HR12Val: long (nullable = true)\n",
      " |-- HR12MF: string (nullable = true)\n",
      " |-- HR12QF: string (nullable = true)\n",
      " |-- HR12S1: string (nullable = true)\n",
      " |-- HR12S2: string (nullable = true)\n",
      " |-- HR13Val: long (nullable = true)\n",
      " |-- HR13MF: string (nullable = true)\n",
      " |-- HR13QF: string (nullable = true)\n",
      " |-- HR13S1: string (nullable = true)\n",
      " |-- HR13S2: string (nullable = true)\n",
      " |-- HR14Val: long (nullable = true)\n",
      " |-- HR14MF: string (nullable = true)\n",
      " |-- HR14QF: string (nullable = true)\n",
      " |-- HR14S1: string (nullable = true)\n",
      " |-- HR14S2: string (nullable = true)\n",
      " |-- HR15Val: long (nullable = true)\n",
      " |-- HR15MF: string (nullable = true)\n",
      " |-- HR15QF: string (nullable = true)\n",
      " |-- HR15S1: string (nullable = true)\n",
      " |-- HR15S2: string (nullable = true)\n",
      " |-- HR16Val: long (nullable = true)\n",
      " |-- HR16MF: string (nullable = true)\n",
      " |-- HR16QF: string (nullable = true)\n",
      " |-- HR16S1: string (nullable = true)\n",
      " |-- HR16S2: string (nullable = true)\n",
      " |-- HR17Val: long (nullable = true)\n",
      " |-- HR17MF: string (nullable = true)\n",
      " |-- HR17QF: string (nullable = true)\n",
      " |-- HR17S1: string (nullable = true)\n",
      " |-- HR17S2: string (nullable = true)\n",
      " |-- HR18Val: long (nullable = true)\n",
      " |-- HR18MF: string (nullable = true)\n",
      " |-- HR18QF: string (nullable = true)\n",
      " |-- HR18S1: string (nullable = true)\n",
      " |-- HR18S2: string (nullable = true)\n",
      " |-- HR19Val: long (nullable = true)\n",
      " |-- HR19MF: string (nullable = true)\n",
      " |-- HR19QF: string (nullable = true)\n",
      " |-- HR19S1: string (nullable = true)\n",
      " |-- HR19S2: string (nullable = true)\n",
      " |-- HR20Val: long (nullable = true)\n",
      " |-- HR20MF: string (nullable = true)\n",
      " |-- HR20QF: string (nullable = true)\n",
      " |-- HR20S1: string (nullable = true)\n",
      " |-- HR20S2: string (nullable = true)\n",
      " |-- HR21Val: long (nullable = true)\n",
      " |-- HR21MF: string (nullable = true)\n",
      " |-- HR21QF: string (nullable = true)\n",
      " |-- HR21S1: string (nullable = true)\n",
      " |-- HR21S2: string (nullable = true)\n",
      " |-- HR22Val: long (nullable = true)\n",
      " |-- HR22MF: string (nullable = true)\n",
      " |-- HR22QF: string (nullable = true)\n",
      " |-- HR22S1: string (nullable = true)\n",
      " |-- HR22S2: string (nullable = true)\n",
      " |-- HR23Val: long (nullable = true)\n",
      " |-- HR23MF: string (nullable = true)\n",
      " |-- HR23QF: string (nullable = true)\n",
      " |-- HR23S1: string (nullable = true)\n",
      " |-- HR23S2: string (nullable = true)\n",
      " |-- DlySum: long (nullable = true)\n",
      " |-- DlySumMF: string (nullable = true)\n",
      " |-- DlySumQF: string (nullable = true)\n",
      " |-- DlySumS1: string (nullable = true)\n",
      " |-- DlySumS2: string (nullable = true)\n",
      "\n"
     ]
    }
   ],
   "source": [
    "df_t.printSchema()"
   ]
  },
  {
   "cell_type": "code",
   "execution_count": 12,
   "id": "5134b2f9",
   "metadata": {},
   "outputs": [
    {
     "data": {
      "text/plain": [
       "StructType([StructField('STATION', StringType(), True), StructField('NAME', StringType(), True), StructField('LATITUDE', DoubleType(), True), StructField('LONGITUDE', DoubleType(), True), StructField('ELEVATION', DoubleType(), True), StructField('DATE', DateType(), True), StructField('HR00Val', LongType(), True), StructField('HR00MF', StringType(), True), StructField('HR00QF', StringType(), True), StructField('HR00S1', StringType(), True), StructField('HR00S2', StringType(), True), StructField('HR01Val', LongType(), True), StructField('HR01MF', StringType(), True), StructField('HR01QF', StringType(), True), StructField('HR01S1', StringType(), True), StructField('HR01S2', StringType(), True), StructField('HR02Val', LongType(), True), StructField('HR02MF', StringType(), True), StructField('HR02QF', StringType(), True), StructField('HR02S1', StringType(), True), StructField('HR02S2', StringType(), True), StructField('HR03Val', LongType(), True), StructField('HR03MF', StringType(), True), StructField('HR03QF', StringType(), True), StructField('HR03S1', StringType(), True), StructField('HR03S2', StringType(), True), StructField('HR04Val', LongType(), True), StructField('HR04MF', StringType(), True), StructField('HR04QF', StringType(), True), StructField('HR04S1', StringType(), True), StructField('HR04S2', StringType(), True), StructField('HR05Val', LongType(), True), StructField('HR05MF', StringType(), True), StructField('HR05QF', StringType(), True), StructField('HR05S1', StringType(), True), StructField('HR05S2', StringType(), True), StructField('HR06Val', LongType(), True), StructField('HR06MF', StringType(), True), StructField('HR06QF', StringType(), True), StructField('HR06S1', StringType(), True), StructField('HR06S2', StringType(), True), StructField('HR07Val', LongType(), True), StructField('HR07MF', StringType(), True), StructField('HR07QF', StringType(), True), StructField('HR07S1', StringType(), True), StructField('HR07S2', StringType(), True), StructField('HR08Val', LongType(), True), StructField('HR08MF', StringType(), True), StructField('HR08QF', StringType(), True), StructField('HR08S1', StringType(), True), StructField('HR08S2', StringType(), True), StructField('HR09Val', LongType(), True), StructField('HR09MF', StringType(), True), StructField('HR09QF', StringType(), True), StructField('HR09S1', StringType(), True), StructField('HR09S2', StringType(), True), StructField('HR10Val', LongType(), True), StructField('HR10MF', StringType(), True), StructField('HR10QF', StringType(), True), StructField('HR10S1', StringType(), True), StructField('HR10S2', StringType(), True), StructField('HR11Val', LongType(), True), StructField('HR11MF', StringType(), True), StructField('HR11QF', StringType(), True), StructField('HR11S1', StringType(), True), StructField('HR11S2', StringType(), True), StructField('HR12Val', LongType(), True), StructField('HR12MF', StringType(), True), StructField('HR12QF', StringType(), True), StructField('HR12S1', StringType(), True), StructField('HR12S2', StringType(), True), StructField('HR13Val', LongType(), True), StructField('HR13MF', StringType(), True), StructField('HR13QF', StringType(), True), StructField('HR13S1', StringType(), True), StructField('HR13S2', StringType(), True), StructField('HR14Val', LongType(), True), StructField('HR14MF', StringType(), True), StructField('HR14QF', StringType(), True), StructField('HR14S1', StringType(), True), StructField('HR14S2', StringType(), True), StructField('HR15Val', LongType(), True), StructField('HR15MF', StringType(), True), StructField('HR15QF', StringType(), True), StructField('HR15S1', StringType(), True), StructField('HR15S2', StringType(), True), StructField('HR16Val', LongType(), True), StructField('HR16MF', StringType(), True), StructField('HR16QF', StringType(), True), StructField('HR16S1', StringType(), True), StructField('HR16S2', StringType(), True), StructField('HR17Val', LongType(), True), StructField('HR17MF', StringType(), True), StructField('HR17QF', StringType(), True), StructField('HR17S1', StringType(), True), StructField('HR17S2', StringType(), True), StructField('HR18Val', LongType(), True), StructField('HR18MF', StringType(), True), StructField('HR18QF', StringType(), True), StructField('HR18S1', StringType(), True), StructField('HR18S2', StringType(), True), StructField('HR19Val', LongType(), True), StructField('HR19MF', StringType(), True), StructField('HR19QF', StringType(), True), StructField('HR19S1', StringType(), True), StructField('HR19S2', StringType(), True), StructField('HR20Val', LongType(), True), StructField('HR20MF', StringType(), True), StructField('HR20QF', StringType(), True), StructField('HR20S1', StringType(), True), StructField('HR20S2', StringType(), True), StructField('HR21Val', LongType(), True), StructField('HR21MF', StringType(), True), StructField('HR21QF', StringType(), True), StructField('HR21S1', StringType(), True), StructField('HR21S2', StringType(), True), StructField('HR22Val', LongType(), True), StructField('HR22MF', StringType(), True), StructField('HR22QF', StringType(), True), StructField('HR22S1', StringType(), True), StructField('HR22S2', StringType(), True), StructField('HR23Val', LongType(), True), StructField('HR23MF', StringType(), True), StructField('HR23QF', StringType(), True), StructField('HR23S1', StringType(), True), StructField('HR23S2', StringType(), True), StructField('DlySum', LongType(), True), StructField('DlySumMF', StringType(), True), StructField('DlySumQF', StringType(), True), StructField('DlySumS1', StringType(), True), StructField('DlySumS2', StringType(), True)])"
      ]
     },
     "execution_count": 12,
     "metadata": {},
     "output_type": "execute_result"
    }
   ],
   "source": [
    "df_t.schema"
   ]
  },
  {
   "cell_type": "code",
   "execution_count": 11,
   "id": "3ddc35a4",
   "metadata": {},
   "outputs": [
    {
     "name": "stdout",
     "output_type": "stream",
     "text": [
      "23/01/26 19:57:59 WARN package: Truncated the string representation of a plan since it was too large. This behavior can be adjusted by setting 'spark.sql.debug.maxToStringFields'.\n"
     ]
    },
    {
     "name": "stderr",
     "output_type": "stream",
     "text": [
      "                                                                                \r"
     ]
    },
    {
     "name": "stdout",
     "output_type": "stream",
     "text": [
      "-RECORD 0--------------------\n",
      " STATION   | AQC00914594     \n",
      " NAME      | MALAELOA, AS AQ \n",
      " LATITUDE  | -14.33333       \n",
      " LONGITUDE | -170.76667      \n",
      " ELEVATION | 42.4            \n",
      " DATE      | 2019-09-29      \n",
      " HR00Val   | -9999           \n",
      " HR00MF    |                 \n",
      " HR00QF    |                 \n",
      " HR00S1    | H               \n",
      " HR00S2    |                 \n",
      " HR01Val   | -9999           \n",
      " HR01MF    |                 \n",
      " HR01QF    |                 \n",
      " HR01S1    | H               \n",
      " HR01S2    |                 \n",
      " HR02Val   | -9999           \n",
      " HR02MF    |                 \n",
      " HR02QF    |                 \n",
      " HR02S1    | H               \n",
      " HR02S2    |                 \n",
      " HR03Val   | -9999           \n",
      " HR03MF    |                 \n",
      " HR03QF    |                 \n",
      " HR03S1    | H               \n",
      " HR03S2    |                 \n",
      " HR04Val   | -9999           \n",
      " HR04MF    |                 \n",
      " HR04QF    |                 \n",
      " HR04S1    | H               \n",
      " HR04S2    |                 \n",
      " HR05Val   | -9999           \n",
      " HR05MF    |                 \n",
      " HR05QF    |                 \n",
      " HR05S1    | H               \n",
      " HR05S2    |                 \n",
      " HR06Val   | -9999           \n",
      " HR06MF    |                 \n",
      " HR06QF    |                 \n",
      " HR06S1    | H               \n",
      " HR06S2    |                 \n",
      " HR07Val   | -9999           \n",
      " HR07MF    |                 \n",
      " HR07QF    |                 \n",
      " HR07S1    | H               \n",
      " HR07S2    |                 \n",
      " HR08Val   | -9999           \n",
      " HR08MF    |                 \n",
      " HR08QF    |                 \n",
      " HR08S1    | H               \n",
      " HR08S2    |                 \n",
      " HR09Val   | -9999           \n",
      " HR09MF    |                 \n",
      " HR09QF    |                 \n",
      " HR09S1    | H               \n",
      " HR09S2    |                 \n",
      " HR10Val   | -9999           \n",
      " HR10MF    |                 \n",
      " HR10QF    |                 \n",
      " HR10S1    | H               \n",
      " HR10S2    |                 \n",
      " HR11Val   | -9999           \n",
      " HR11MF    |                 \n",
      " HR11QF    |                 \n",
      " HR11S1    | H               \n",
      " HR11S2    |                 \n",
      " HR12Val   | -9999           \n",
      " HR12MF    |                 \n",
      " HR12QF    |                 \n",
      " HR12S1    | H               \n",
      " HR12S2    |                 \n",
      " HR13Val   | -9999           \n",
      " HR13MF    |                 \n",
      " HR13QF    |                 \n",
      " HR13S1    | H               \n",
      " HR13S2    |                 \n",
      " HR14Val   | 0               \n",
      " HR14MF    |                 \n",
      " HR14QF    |                 \n",
      " HR14S1    | H               \n",
      " HR14S2    | C               \n",
      " HR15Val   | -9999           \n",
      " HR15MF    |                 \n",
      " HR15QF    |                 \n",
      " HR15S1    | H               \n",
      " HR15S2    |                 \n",
      " HR16Val   | -9999           \n",
      " HR16MF    |                 \n",
      " HR16QF    |                 \n",
      " HR16S1    | H               \n",
      " HR16S2    |                 \n",
      " HR17Val   | -9999           \n",
      " HR17MF    |                 \n",
      " HR17QF    |                 \n",
      " HR17S1    | H               \n",
      " HR17S2    |                 \n",
      " HR18Val   | -9999           \n",
      " HR18MF    |                 \n",
      " HR18QF    |                 \n",
      " HR18S1    | H               \n",
      " HR18S2    |                 \n",
      " HR19Val   | -9999           \n",
      " HR19MF    |                 \n",
      " HR19QF    |                 \n",
      " HR19S1    | H               \n",
      " HR19S2    |                 \n",
      " HR20Val   | -9999           \n",
      " HR20MF    |                 \n",
      " HR20QF    |                 \n",
      " HR20S1    | H               \n",
      " HR20S2    |                 \n",
      " HR21Val   | -9999           \n",
      " HR21MF    |                 \n",
      " HR21QF    |                 \n",
      " HR21S1    | H               \n",
      " HR21S2    |                 \n",
      " HR22Val   | -9999           \n",
      " HR22MF    |                 \n",
      " HR22QF    |                 \n",
      " HR22S1    | H               \n",
      " HR22S2    |                 \n",
      " HR23Val   | -9999           \n",
      " HR23MF    |                 \n",
      " HR23QF    |                 \n",
      " HR23S1    | H               \n",
      " HR23S2    |                 \n",
      " DlySum    | 0               \n",
      " DlySumMF  |                 \n",
      " DlySumQF  | P               \n",
      " DlySumS1  |                 \n",
      " DlySumS2  | C               \n",
      "only showing top 1 row\n",
      "\n"
     ]
    }
   ],
   "source": [
    "df_t.show(1,False,True)"
   ]
  },
  {
   "cell_type": "code",
   "execution_count": 3,
   "id": "5cda2d5b",
   "metadata": {},
   "outputs": [],
   "source": [
    "station_schema = StructType([StructField('STATION', StringType(), True),\n",
    " StructField('NAME', StringType(), True),\n",
    " StructField('LATITUDE', DoubleType(), True),\n",
    " StructField('LONGITUDE', DoubleType(), True),\n",
    " StructField('ELEVATION', DoubleType(), True),\n",
    " StructField('DATE', DateType(), True),\n",
    " StructField('HR00Val', LongType(), True),\n",
    " StructField('HR00MF', StringType(), True),\n",
    " StructField('HR00QF', StringType(), True),\n",
    " StructField('HR00S1', StringType(), True),\n",
    " StructField('HR00S2', StringType(), True),\n",
    " StructField('HR01Val', LongType(), True),\n",
    " StructField('HR01MF', StringType(), True),\n",
    " StructField('HR01QF', StringType(), True),\n",
    " StructField('HR01S1', StringType(), True),\n",
    " StructField('HR01S2', StringType(), True),\n",
    " StructField('HR02Val', LongType(), True),\n",
    " StructField('HR02MF', StringType(), True),\n",
    " StructField('HR02QF', StringType(), True),\n",
    " StructField('HR02S1', StringType(), True),\n",
    " StructField('HR02S2', StringType(), True),\n",
    " StructField('HR03Val', LongType(), True),\n",
    " StructField('HR03MF', StringType(), True),\n",
    " StructField('HR03QF', StringType(), True),\n",
    " StructField('HR03S1', StringType(), True),\n",
    " StructField('HR03S2', StringType(), True),\n",
    " StructField('HR04Val', LongType(), True),\n",
    " StructField('HR04MF', StringType(), True),\n",
    " StructField('HR04QF', StringType(), True),\n",
    " StructField('HR04S1', StringType(), True),\n",
    " StructField('HR04S2', StringType(), True),\n",
    " StructField('HR05Val', LongType(), True),\n",
    " StructField('HR05MF', StringType(), True),\n",
    " StructField('HR05QF', StringType(), True),\n",
    " StructField('HR05S1', StringType(), True),\n",
    " StructField('HR05S2', StringType(), True),\n",
    " StructField('HR06Val', LongType(), True),\n",
    " StructField('HR06MF', StringType(), True),\n",
    " StructField('HR06QF', StringType(), True),\n",
    " StructField('HR06S1', StringType(), True),\n",
    " StructField('HR06S2', StringType(), True),\n",
    " StructField('HR07Val', LongType(), True),\n",
    " StructField('HR07MF', StringType(), True),\n",
    " StructField('HR07QF', StringType(), True),\n",
    " StructField('HR07S1', StringType(), True),\n",
    " StructField('HR07S2', StringType(), True),\n",
    " StructField('HR08Val', LongType(), True),\n",
    " StructField('HR08MF', StringType(), True),\n",
    " StructField('HR08QF', StringType(), True),\n",
    " StructField('HR08S1', StringType(), True),\n",
    " StructField('HR08S2', StringType(), True),\n",
    " StructField('HR09Val', LongType(), True),\n",
    " StructField('HR09MF', StringType(), True),\n",
    " StructField('HR09QF', StringType(), True),\n",
    " StructField('HR09S1', StringType(), True),\n",
    " StructField('HR09S2', StringType(), True),\n",
    " StructField('HR10Val', LongType(), True),\n",
    " StructField('HR10MF', StringType(), True),\n",
    " StructField('HR10QF', StringType(), True),\n",
    " StructField('HR10S1', StringType(), True),\n",
    " StructField('HR10S2', StringType(), True),\n",
    " StructField('HR11Val', LongType(), True),\n",
    " StructField('HR11MF', StringType(), True),\n",
    " StructField('HR11QF', StringType(), True),\n",
    " StructField('HR11S1', StringType(), True),\n",
    " StructField('HR11S2', StringType(), True),\n",
    " StructField('HR12Val', LongType(), True),\n",
    " StructField('HR12MF', StringType(), True),\n",
    " StructField('HR12QF', StringType(), True),\n",
    " StructField('HR12S1', StringType(), True),\n",
    " StructField('HR12S2', StringType(), True),\n",
    " StructField('HR13Val', LongType(), True),\n",
    " StructField('HR13MF', StringType(), True),\n",
    " StructField('HR13QF', StringType(), True),\n",
    " StructField('HR13S1', StringType(), True),\n",
    " StructField('HR13S2', StringType(), True),\n",
    " StructField('HR14Val', LongType(), True),\n",
    " StructField('HR14MF', StringType(), True),\n",
    " StructField('HR14QF', StringType(), True),\n",
    " StructField('HR14S1', StringType(), True),\n",
    " StructField('HR14S2', StringType(), True),\n",
    " StructField('HR15Val', LongType(), True),\n",
    " StructField('HR15MF', StringType(), True),\n",
    " StructField('HR15QF', StringType(), True),\n",
    " StructField('HR15S1', StringType(), True),\n",
    " StructField('HR15S2', StringType(), True),\n",
    " StructField('HR16Val', LongType(), True),\n",
    " StructField('HR16MF', StringType(), True),\n",
    " StructField('HR16QF', StringType(), True),\n",
    " StructField('HR16S1', StringType(), True),\n",
    " StructField('HR16S2', StringType(), True),\n",
    " StructField('HR17Val', LongType(), True),\n",
    " StructField('HR17MF', StringType(), True),\n",
    " StructField('HR17QF', StringType(), True),\n",
    " StructField('HR17S1', StringType(), True),\n",
    " StructField('HR17S2', StringType(), True),\n",
    " StructField('HR18Val', LongType(), True),\n",
    " StructField('HR18MF', StringType(), True),\n",
    " StructField('HR18QF', StringType(), True),\n",
    " StructField('HR18S1', StringType(), True),\n",
    " StructField('HR18S2', StringType(), True),\n",
    " StructField('HR19Val', LongType(), True),\n",
    " StructField('HR19MF', StringType(), True),\n",
    " StructField('HR19QF', StringType(), True),\n",
    " StructField('HR19S1', StringType(), True),\n",
    " StructField('HR19S2', StringType(), True),\n",
    " StructField('HR20Val', LongType(), True),\n",
    " StructField('HR20MF', StringType(), True),\n",
    " StructField('HR20QF', StringType(), True),\n",
    " StructField('HR20S1', StringType(), True),\n",
    " StructField('HR20S2', StringType(), True),\n",
    " StructField('HR21Val', LongType(), True),\n",
    " StructField('HR21MF', StringType(), True),\n",
    " StructField('HR21QF', StringType(), True),\n",
    " StructField('HR21S1', StringType(), True),\n",
    " StructField('HR21S2', StringType(), True),\n",
    " StructField('HR22Val', LongType(), True),\n",
    " StructField('HR22MF', StringType(), True),\n",
    " StructField('HR22QF', StringType(), True),\n",
    " StructField('HR22S1', StringType(), True),\n",
    " StructField('HR22S2', StringType(), True),\n",
    " StructField('HR23Val', LongType(), True),\n",
    " StructField('HR23MF', StringType(), True),\n",
    " StructField('HR23QF', StringType(), True),\n",
    " StructField('HR23S1', StringType(), True),\n",
    " StructField('HR23S2', StringType(), True),\n",
    " StructField('DlySum', LongType(), True),\n",
    " StructField('DlySumMF', StringType(), True),\n",
    " StructField('DlySumQF', StringType(), True),\n",
    " StructField('DlySumS1', StringType(), True),\n",
    " StructField('DlySumS2', StringType(), True)])"
   ]
  },
  {
   "cell_type": "code",
   "execution_count": 87,
   "id": "0ab05cac",
   "metadata": {},
   "outputs": [],
   "source": [
    "df_t = spark.read.schema(station_schema).parquet('../data/*.parquet')"
   ]
  },
  {
   "cell_type": "code",
   "execution_count": 5,
   "id": "d67079d2",
   "metadata": {},
   "outputs": [
    {
     "name": "stdout",
     "output_type": "stream",
     "text": [
      "23/01/28 13:20:04 WARN package: Truncated the string representation of a plan since it was too large. This behavior can be adjusted by setting 'spark.sql.debug.maxToStringFields'.\n"
     ]
    },
    {
     "name": "stderr",
     "output_type": "stream",
     "text": [
      "                                                                                \r"
     ]
    },
    {
     "name": "stdout",
     "output_type": "stream",
     "text": [
      "-RECORD 0--------------------\n",
      " STATION   | AQC00914594     \n",
      " NAME      | MALAELOA, AS AQ \n",
      " LATITUDE  | -14.33333       \n",
      " LONGITUDE | -170.76667      \n",
      " ELEVATION | 42.4            \n",
      " DATE      | 2019-09-29      \n",
      " HR00Val   | -9999           \n",
      " HR00MF    |                 \n",
      " HR00QF    |                 \n",
      " HR00S1    | H               \n",
      " HR00S2    |                 \n",
      " HR01Val   | -9999           \n",
      " HR01MF    |                 \n",
      " HR01QF    |                 \n",
      " HR01S1    | H               \n",
      " HR01S2    |                 \n",
      " HR02Val   | -9999           \n",
      " HR02MF    |                 \n",
      " HR02QF    |                 \n",
      " HR02S1    | H               \n",
      " HR02S2    |                 \n",
      " HR03Val   | -9999           \n",
      " HR03MF    |                 \n",
      " HR03QF    |                 \n",
      " HR03S1    | H               \n",
      " HR03S2    |                 \n",
      " HR04Val   | -9999           \n",
      " HR04MF    |                 \n",
      " HR04QF    |                 \n",
      " HR04S1    | H               \n",
      " HR04S2    |                 \n",
      " HR05Val   | -9999           \n",
      " HR05MF    |                 \n",
      " HR05QF    |                 \n",
      " HR05S1    | H               \n",
      " HR05S2    |                 \n",
      " HR06Val   | -9999           \n",
      " HR06MF    |                 \n",
      " HR06QF    |                 \n",
      " HR06S1    | H               \n",
      " HR06S2    |                 \n",
      " HR07Val   | -9999           \n",
      " HR07MF    |                 \n",
      " HR07QF    |                 \n",
      " HR07S1    | H               \n",
      " HR07S2    |                 \n",
      " HR08Val   | -9999           \n",
      " HR08MF    |                 \n",
      " HR08QF    |                 \n",
      " HR08S1    | H               \n",
      " HR08S2    |                 \n",
      " HR09Val   | -9999           \n",
      " HR09MF    |                 \n",
      " HR09QF    |                 \n",
      " HR09S1    | H               \n",
      " HR09S2    |                 \n",
      " HR10Val   | -9999           \n",
      " HR10MF    |                 \n",
      " HR10QF    |                 \n",
      " HR10S1    | H               \n",
      " HR10S2    |                 \n",
      " HR11Val   | -9999           \n",
      " HR11MF    |                 \n",
      " HR11QF    |                 \n",
      " HR11S1    | H               \n",
      " HR11S2    |                 \n",
      " HR12Val   | -9999           \n",
      " HR12MF    |                 \n",
      " HR12QF    |                 \n",
      " HR12S1    | H               \n",
      " HR12S2    |                 \n",
      " HR13Val   | -9999           \n",
      " HR13MF    |                 \n",
      " HR13QF    |                 \n",
      " HR13S1    | H               \n",
      " HR13S2    |                 \n",
      " HR14Val   | 0               \n",
      " HR14MF    |                 \n",
      " HR14QF    |                 \n",
      " HR14S1    | H               \n",
      " HR14S2    | C               \n",
      " HR15Val   | -9999           \n",
      " HR15MF    |                 \n",
      " HR15QF    |                 \n",
      " HR15S1    | H               \n",
      " HR15S2    |                 \n",
      " HR16Val   | -9999           \n",
      " HR16MF    |                 \n",
      " HR16QF    |                 \n",
      " HR16S1    | H               \n",
      " HR16S2    |                 \n",
      " HR17Val   | -9999           \n",
      " HR17MF    |                 \n",
      " HR17QF    |                 \n",
      " HR17S1    | H               \n",
      " HR17S2    |                 \n",
      " HR18Val   | -9999           \n",
      " HR18MF    |                 \n",
      " HR18QF    |                 \n",
      " HR18S1    | H               \n",
      " HR18S2    |                 \n",
      " HR19Val   | -9999           \n",
      " HR19MF    |                 \n",
      " HR19QF    |                 \n",
      " HR19S1    | H               \n",
      " HR19S2    |                 \n",
      " HR20Val   | -9999           \n",
      " HR20MF    |                 \n",
      " HR20QF    |                 \n",
      " HR20S1    | H               \n",
      " HR20S2    |                 \n",
      " HR21Val   | -9999           \n",
      " HR21MF    |                 \n",
      " HR21QF    |                 \n",
      " HR21S1    | H               \n",
      " HR21S2    |                 \n",
      " HR22Val   | -9999           \n",
      " HR22MF    |                 \n",
      " HR22QF    |                 \n",
      " HR22S1    | H               \n",
      " HR22S2    |                 \n",
      " HR23Val   | -9999           \n",
      " HR23MF    |                 \n",
      " HR23QF    |                 \n",
      " HR23S1    | H               \n",
      " HR23S2    |                 \n",
      " DlySum    | 0               \n",
      " DlySumMF  |                 \n",
      " DlySumQF  | P               \n",
      " DlySumS1  |                 \n",
      " DlySumS2  | C               \n",
      "only showing top 1 row\n",
      "\n"
     ]
    }
   ],
   "source": [
    "df_t.show(1,False,True)"
   ]
  },
  {
   "cell_type": "code",
   "execution_count": null,
   "id": "c66cd7c7",
   "metadata": {},
   "outputs": [],
   "source": [
    "# separate station metrics from hourly values; station metrics can be found here: HPD_v02r02_stationinv_c20221129.csv \n",
    "# unstack hourly values\n",
    "# replace -9999 with Null (python None)\n",
    "# partition by year, month"
   ]
  },
  {
   "cell_type": "code",
   "execution_count": 7,
   "id": "97f6e596",
   "metadata": {},
   "outputs": [],
   "source": [
    "# cols_nested = [[f'HR{i:02}Val', f'HR{i:02}MF', f'HR{i:02}QF', f'HR{i:02}S1', f'HR{i:02}S2'] for i in range(24)]\n",
    "# cols = [col for col_list in cols_nested for col in col_list]"
   ]
  },
  {
   "cell_type": "code",
   "execution_count": 40,
   "id": "1c1634d5",
   "metadata": {},
   "outputs": [],
   "source": [
    "# function to generate hourly columns\n",
    "def generate_cols_as_array(col_name):\n",
    "    return array([col(f'HR{i:02}{col_name}') for i in range(24)]).alias(col_name)"
   ]
  },
  {
   "cell_type": "code",
   "execution_count": 105,
   "id": "4a868dfe",
   "metadata": {},
   "outputs": [],
   "source": [
    "# unstack hourly columns\n",
    "col_types = ['Val', 'MF', 'QF', 'S1', 'S2']\n",
    "\n",
    "df_t2 = (df_t.select('STATION', 'DATE', arrays_zip(*[generate_cols_as_array(c) for c in col_types]\n",
    "                                          ).alias('zip'))  # generate zipped arrays for each hour\n",
    " .select('*', posexplode('zip').alias('hr', 'exp'))  # explode zipped arrays\n",
    " .select('*', *[col('exp')[c].alias(c) for c in col_types],  # extract array\n",
    "        )\n",
    " .select('STATION', 'DATE', 'hr', *col_types)\n",
    ")"
   ]
  },
  {
   "cell_type": "code",
   "execution_count": 89,
   "id": "7b859782",
   "metadata": {
    "scrolled": true
   },
   "outputs": [
    {
     "name": "stdout",
     "output_type": "stream",
     "text": [
      "+-----------+----------+---+---+---+---+---+---+\n",
      "|    STATION|      DATE| hr|Val| MF| QF| S1| S2|\n",
      "+-----------+----------+---+---+---+---+---+---+\n",
      "|CQC00914855|1979-09-01|  0|  0|  g|   |  4|   |\n",
      "|CQC00914855|1979-09-01|  1|  0|  Z|   |  4|   |\n",
      "|CQC00914855|1979-09-01|  2|  0|  Z|   |  4|   |\n",
      "|CQC00914855|1979-09-01|  3|  0|  Z|   |  4|   |\n",
      "|CQC00914855|1979-09-01|  4|  0|  Z|   |  4|   |\n",
      "|CQC00914855|1979-09-01|  5|  0|  Z|   |  4|   |\n",
      "|CQC00914855|1979-09-01|  6|  0|  Z|   |  4|   |\n",
      "|CQC00914855|1979-09-01|  7|  0|  Z|   |  4|   |\n",
      "|CQC00914855|1979-09-01|  8|  0|  Z|   |  4|   |\n",
      "|CQC00914855|1979-09-01|  9|  0|  Z|   |  4|   |\n",
      "|CQC00914855|1979-09-01| 10|  0|  Z|   |  4|   |\n",
      "|CQC00914855|1979-09-01| 11|  0|  Z|   |  4|   |\n",
      "|CQC00914855|1979-09-01| 12|  0|  Z|   |  4|   |\n",
      "|CQC00914855|1979-09-01| 13|  0|  Z|   |  4|   |\n",
      "|CQC00914855|1979-09-01| 14|  0|  Z|   |  4|   |\n",
      "|CQC00914855|1979-09-01| 15|  0|  Z|   |  4|   |\n",
      "|CQC00914855|1979-09-01| 16|  0|  Z|   |  4|   |\n",
      "|CQC00914855|1979-09-01| 17|  0|  Z|   |  4|   |\n",
      "|CQC00914855|1979-09-01| 18|  0|  Z|   |  4|   |\n",
      "|CQC00914855|1979-09-01| 19|  0|  Z|   |  4|   |\n",
      "|CQC00914855|1979-09-01| 20|  0|  Z|   |  4|   |\n",
      "|CQC00914855|1979-09-01| 21|  0|  Z|   |  4|   |\n",
      "|CQC00914855|1979-09-01| 22|  0|  Z|   |  4|   |\n",
      "|CQC00914855|1979-09-01| 23|  0|  Z|   |  4|   |\n",
      "|CQC00914855|1979-09-02|  0|  0|  Z|   |  4|   |\n",
      "|CQC00914855|1979-09-02|  1|  0|  Z|   |  4|   |\n",
      "|CQC00914855|1979-09-02|  2|  0|  Z|   |  4|   |\n",
      "|CQC00914855|1979-09-02|  3|  0|  Z|   |  4|   |\n",
      "|CQC00914855|1979-09-02|  4|  0|  Z|   |  4|   |\n",
      "|CQC00914855|1979-09-02|  5|  0|  Z|   |  4|   |\n",
      "|CQC00914855|1979-09-02|  6|  0|  Z|   |  4|   |\n",
      "|CQC00914855|1979-09-02|  7|  0|  Z|   |  4|   |\n",
      "|CQC00914855|1979-09-02|  8|  0|  Z|   |  4|   |\n",
      "|CQC00914855|1979-09-02|  9|  0|  Z|   |  4|   |\n",
      "|CQC00914855|1979-09-02| 10|  0|  Z|   |  4|   |\n",
      "|CQC00914855|1979-09-02| 11|  0|  Z|   |  4|   |\n",
      "|CQC00914855|1979-09-02| 12|  0|  Z|   |  4|   |\n",
      "|CQC00914855|1979-09-02| 13|  0|  Z|   |  4|   |\n",
      "|CQC00914855|1979-09-02| 14|  0|  Z|   |  4|   |\n",
      "|CQC00914855|1979-09-02| 15|  0|  Z|   |  4|   |\n",
      "|CQC00914855|1979-09-02| 16|  0|  Z|   |  4|   |\n",
      "|CQC00914855|1979-09-02| 17|  0|  Z|   |  4|   |\n",
      "|CQC00914855|1979-09-02| 18|  0|  Z|   |  4|   |\n",
      "|CQC00914855|1979-09-02| 19|  0|  Z|   |  4|   |\n",
      "|CQC00914855|1979-09-02| 20|  0|  Z|   |  4|   |\n",
      "|CQC00914855|1979-09-02| 21|  0|  Z|   |  4|   |\n",
      "|CQC00914855|1979-09-02| 22|  0|  Z|   |  4|   |\n",
      "|CQC00914855|1979-09-02| 23|  0|  Z|   |  4|   |\n",
      "|CQC00914855|1979-09-03|  0|  0|  Z|   |  4|   |\n",
      "|CQC00914855|1979-09-03|  1|  0|  Z|   |  4|   |\n",
      "+-----------+----------+---+---+---+---+---+---+\n",
      "only showing top 50 rows\n",
      "\n"
     ]
    }
   ],
   "source": [
    "df_t2.show(50)"
   ]
  },
  {
   "cell_type": "code",
   "execution_count": 106,
   "id": "2905dd03",
   "metadata": {},
   "outputs": [],
   "source": [
    "# replace -9999 values and ' ' strings with null\n",
    "df_t2 = (df_t2.replace({-9999: None}, subset=['Val'])\n",
    "     .replace({' ': None}, subset=['MF', 'QF', 'S1', 'S2'])\n",
    ")"
   ]
  },
  {
   "cell_type": "code",
   "execution_count": 91,
   "id": "bad1bf51",
   "metadata": {},
   "outputs": [
    {
     "name": "stdout",
     "output_type": "stream",
     "text": [
      "+-----------+----------+---+---+---+----+---+----+\n",
      "|    STATION|      DATE| hr|Val| MF|  QF| S1|  S2|\n",
      "+-----------+----------+---+---+---+----+---+----+\n",
      "|CQC00914855|1979-09-01|  0|  0|  g|null|  4|null|\n",
      "|CQC00914855|1979-09-01|  1|  0|  Z|null|  4|null|\n",
      "|CQC00914855|1979-09-01|  2|  0|  Z|null|  4|null|\n",
      "|CQC00914855|1979-09-01|  3|  0|  Z|null|  4|null|\n",
      "|CQC00914855|1979-09-01|  4|  0|  Z|null|  4|null|\n",
      "|CQC00914855|1979-09-01|  5|  0|  Z|null|  4|null|\n",
      "|CQC00914855|1979-09-01|  6|  0|  Z|null|  4|null|\n",
      "|CQC00914855|1979-09-01|  7|  0|  Z|null|  4|null|\n",
      "|CQC00914855|1979-09-01|  8|  0|  Z|null|  4|null|\n",
      "|CQC00914855|1979-09-01|  9|  0|  Z|null|  4|null|\n",
      "|CQC00914855|1979-09-01| 10|  0|  Z|null|  4|null|\n",
      "|CQC00914855|1979-09-01| 11|  0|  Z|null|  4|null|\n",
      "|CQC00914855|1979-09-01| 12|  0|  Z|null|  4|null|\n",
      "|CQC00914855|1979-09-01| 13|  0|  Z|null|  4|null|\n",
      "|CQC00914855|1979-09-01| 14|  0|  Z|null|  4|null|\n",
      "|CQC00914855|1979-09-01| 15|  0|  Z|null|  4|null|\n",
      "|CQC00914855|1979-09-01| 16|  0|  Z|null|  4|null|\n",
      "|CQC00914855|1979-09-01| 17|  0|  Z|null|  4|null|\n",
      "|CQC00914855|1979-09-01| 18|  0|  Z|null|  4|null|\n",
      "|CQC00914855|1979-09-01| 19|  0|  Z|null|  4|null|\n",
      "|CQC00914855|1979-09-01| 20|  0|  Z|null|  4|null|\n",
      "|CQC00914855|1979-09-01| 21|  0|  Z|null|  4|null|\n",
      "|CQC00914855|1979-09-01| 22|  0|  Z|null|  4|null|\n",
      "|CQC00914855|1979-09-01| 23|  0|  Z|null|  4|null|\n",
      "|CQC00914855|1979-09-02|  0|  0|  Z|null|  4|null|\n",
      "|CQC00914855|1979-09-02|  1|  0|  Z|null|  4|null|\n",
      "|CQC00914855|1979-09-02|  2|  0|  Z|null|  4|null|\n",
      "|CQC00914855|1979-09-02|  3|  0|  Z|null|  4|null|\n",
      "|CQC00914855|1979-09-02|  4|  0|  Z|null|  4|null|\n",
      "|CQC00914855|1979-09-02|  5|  0|  Z|null|  4|null|\n",
      "|CQC00914855|1979-09-02|  6|  0|  Z|null|  4|null|\n",
      "|CQC00914855|1979-09-02|  7|  0|  Z|null|  4|null|\n",
      "|CQC00914855|1979-09-02|  8|  0|  Z|null|  4|null|\n",
      "|CQC00914855|1979-09-02|  9|  0|  Z|null|  4|null|\n",
      "|CQC00914855|1979-09-02| 10|  0|  Z|null|  4|null|\n",
      "|CQC00914855|1979-09-02| 11|  0|  Z|null|  4|null|\n",
      "|CQC00914855|1979-09-02| 12|  0|  Z|null|  4|null|\n",
      "|CQC00914855|1979-09-02| 13|  0|  Z|null|  4|null|\n",
      "|CQC00914855|1979-09-02| 14|  0|  Z|null|  4|null|\n",
      "|CQC00914855|1979-09-02| 15|  0|  Z|null|  4|null|\n",
      "|CQC00914855|1979-09-02| 16|  0|  Z|null|  4|null|\n",
      "|CQC00914855|1979-09-02| 17|  0|  Z|null|  4|null|\n",
      "|CQC00914855|1979-09-02| 18|  0|  Z|null|  4|null|\n",
      "|CQC00914855|1979-09-02| 19|  0|  Z|null|  4|null|\n",
      "|CQC00914855|1979-09-02| 20|  0|  Z|null|  4|null|\n",
      "|CQC00914855|1979-09-02| 21|  0|  Z|null|  4|null|\n",
      "|CQC00914855|1979-09-02| 22|  0|  Z|null|  4|null|\n",
      "|CQC00914855|1979-09-02| 23|  0|  Z|null|  4|null|\n",
      "|CQC00914855|1979-09-03|  0|  0|  Z|null|  4|null|\n",
      "|CQC00914855|1979-09-03|  1|  0|  Z|null|  4|null|\n",
      "+-----------+----------+---+---+---+----+---+----+\n",
      "only showing top 50 rows\n",
      "\n"
     ]
    }
   ],
   "source": [
    "df_t2.show(50)"
   ]
  },
  {
   "cell_type": "code",
   "execution_count": 92,
   "id": "d363362e",
   "metadata": {},
   "outputs": [
    {
     "name": "stderr",
     "output_type": "stream",
     "text": [
      "                                                                                \r"
     ]
    },
    {
     "data": {
      "text/plain": [
       "667176"
      ]
     },
     "execution_count": 92,
     "metadata": {},
     "output_type": "execute_result"
    }
   ],
   "source": [
    "df_t2.count()"
   ]
  },
  {
   "cell_type": "code",
   "execution_count": 93,
   "id": "5aebdd76",
   "metadata": {},
   "outputs": [
    {
     "data": {
      "text/plain": [
       "27799"
      ]
     },
     "execution_count": 93,
     "metadata": {},
     "output_type": "execute_result"
    }
   ],
   "source": [
    "df_t.count()"
   ]
  },
  {
   "cell_type": "code",
   "execution_count": 94,
   "id": "0e4c6f1d",
   "metadata": {},
   "outputs": [
    {
     "data": {
      "text/plain": [
       "667176"
      ]
     },
     "execution_count": 94,
     "metadata": {},
     "output_type": "execute_result"
    }
   ],
   "source": [
    "df_t.count() * 24"
   ]
  },
  {
   "cell_type": "code",
   "execution_count": 68,
   "id": "595c0b09",
   "metadata": {},
   "outputs": [
    {
     "name": "stdout",
     "output_type": "stream",
     "text": [
      "+--------+--------+--------+\n",
      "|sum(Val)|min(Val)|max(Val)|\n",
      "+--------+--------+--------+\n",
      "|    7685|       0|     178|\n",
      "+--------+--------+--------+\n",
      "\n"
     ]
    }
   ],
   "source": [
    "df_t2.select(sum_('Val'), min_('Val'), max_('Val')).show()"
   ]
  },
  {
   "cell_type": "code",
   "execution_count": 95,
   "id": "9ea7f84c",
   "metadata": {},
   "outputs": [
    {
     "name": "stderr",
     "output_type": "stream",
     "text": [
      "[Stage 66:======================================>                   (2 + 1) / 3]\r"
     ]
    },
    {
     "name": "stdout",
     "output_type": "stream",
     "text": [
      "+----------+----------+\n",
      "| min(DATE)| max(DATE)|\n",
      "+----------+----------+\n",
      "|1979-09-01|2021-02-09|\n",
      "+----------+----------+\n",
      "\n"
     ]
    },
    {
     "name": "stderr",
     "output_type": "stream",
     "text": [
      "\r",
      "                                                                                \r"
     ]
    }
   ],
   "source": [
    "df_t2.select(min_('DATE'), max_('DATE')).show()"
   ]
  },
  {
   "cell_type": "code",
   "execution_count": 98,
   "id": "c89061c0",
   "metadata": {},
   "outputs": [
    {
     "name": "stderr",
     "output_type": "stream",
     "text": [
      "                                                                                \r"
     ]
    }
   ],
   "source": [
    "df_t2.write.mode('overwrite').partitionBy('DATE').parquet('../data/out')"
   ]
  },
  {
   "cell_type": "code",
   "execution_count": 107,
   "id": "b704967f",
   "metadata": {},
   "outputs": [],
   "source": [
    "df_t2 = df_t2.withColumn('year', year('DATE')).withColumn('month', month('DATE'))"
   ]
  },
  {
   "cell_type": "code",
   "execution_count": 108,
   "id": "4303216b",
   "metadata": {},
   "outputs": [
    {
     "name": "stderr",
     "output_type": "stream",
     "text": [
      "                                                                                \r"
     ]
    }
   ],
   "source": [
    "df_t2.write.mode('overwrite').partitionBy('year', 'month').parquet('../data/out')"
   ]
  },
  {
   "cell_type": "code",
   "execution_count": null,
   "id": "ec69b9e2",
   "metadata": {},
   "outputs": [],
   "source": []
  }
 ],
 "metadata": {
  "kernelspec": {
   "display_name": "Python 3 (ipykernel)",
   "language": "python",
   "name": "python3"
  },
  "language_info": {
   "codemirror_mode": {
    "name": "ipython",
    "version": 3
   },
   "file_extension": ".py",
   "mimetype": "text/x-python",
   "name": "python",
   "nbconvert_exporter": "python",
   "pygments_lexer": "ipython3",
   "version": "3.10.6"
  }
 },
 "nbformat": 4,
 "nbformat_minor": 5
}
