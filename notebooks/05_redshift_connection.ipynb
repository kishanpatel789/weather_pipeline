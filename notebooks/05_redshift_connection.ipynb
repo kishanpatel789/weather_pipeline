{
 "cells": [
  {
   "cell_type": "markdown",
   "id": "86a2134b",
   "metadata": {},
   "source": [
    "# Attempt Redshift Connection\n",
    "Use ODBC driver to attempt redshift connection. Troubleshoot any security group issues on the Redshfit side."
   ]
  },
  {
   "cell_type": "code",
   "execution_count": 7,
   "id": "06039d6d",
   "metadata": {},
   "outputs": [],
   "source": [
    "import pyodbc"
   ]
  },
  {
   "cell_type": "code",
   "execution_count": 8,
   "id": "82ac62a0",
   "metadata": {},
   "outputs": [
    {
     "ename": "Error",
     "evalue": "('01000', \"[01000] [unixODBC][Driver Manager]Can't open lib 'Amazon Redshift (x64)' : file not found (0) (SQLDriverConnect)\")",
     "output_type": "error",
     "traceback": [
      "\u001b[0;31m---------------------------------------------------------------------------\u001b[0m",
      "\u001b[0;31mError\u001b[0m                                     Traceback (most recent call last)",
      "\u001b[0;32m/tmp/ipykernel_124385/3000971254.py\u001b[0m in \u001b[0;36m<module>\u001b[0;34m\u001b[0m\n\u001b[1;32m      2\u001b[0m \u001b[0mServer\u001b[0m\u001b[0;34m=\u001b[0m\u001b[0mredshift\u001b[0m\u001b[0;34m-\u001b[0m\u001b[0mcluster\u001b[0m\u001b[0;34m-\u001b[0m\u001b[0;36m1.\u001b[0m\u001b[0mctxekmskukzq\u001b[0m\u001b[0;34m.\u001b[0m\u001b[0mus\u001b[0m\u001b[0;34m-\u001b[0m\u001b[0meast\u001b[0m\u001b[0;34m-\u001b[0m\u001b[0;36m1.\u001b[0m\u001b[0mredshift\u001b[0m\u001b[0;34m.\u001b[0m\u001b[0mamazonaws\u001b[0m\u001b[0;34m.\u001b[0m\u001b[0mcom\u001b[0m\u001b[0;34m;\u001b[0m\u001b[0;34m\u001b[0m\u001b[0;34m\u001b[0m\u001b[0m\n\u001b[1;32m      3\u001b[0m Database=dev\"\"\"\n\u001b[0;32m----> 4\u001b[0;31m \u001b[0mconn\u001b[0m \u001b[0;34m=\u001b[0m \u001b[0mpyodbc\u001b[0m\u001b[0;34m.\u001b[0m\u001b[0mconnect\u001b[0m\u001b[0;34m(\u001b[0m\u001b[0mconn_string\u001b[0m\u001b[0;34m)\u001b[0m\u001b[0;34m\u001b[0m\u001b[0;34m\u001b[0m\u001b[0m\n\u001b[0m",
      "\u001b[0;31mError\u001b[0m: ('01000', \"[01000] [unixODBC][Driver Manager]Can't open lib 'Amazon Redshift (x64)' : file not found (0) (SQLDriverConnect)\")"
     ]
    }
   ],
   "source": [
    "conn_string = \"\"\"Driver={Amazon Redshift (x64)}; \n",
    "Server=redshift-cluster-1.ctxekmskukzq.us-east-1.redshift.amazonaws.com; \n",
    "Database=dev\"\"\"\n",
    "conn = pyodbc.connect(conn_string)"
   ]
  },
  {
   "cell_type": "code",
   "execution_count": 1,
   "id": "0ff11c19",
   "metadata": {},
   "outputs": [],
   "source": [
    "# attempt redshift connector library\n",
    "import redshift_connector\n",
    "import getpass"
   ]
  },
  {
   "cell_type": "code",
   "execution_count": 2,
   "id": "51da08d8",
   "metadata": {},
   "outputs": [
    {
     "name": "stdout",
     "output_type": "stream",
     "text": [
      "········\n"
     ]
    }
   ],
   "source": [
    "pw = getpass.getpass()"
   ]
  },
  {
   "cell_type": "code",
   "execution_count": 8,
   "id": "7fd1583e",
   "metadata": {},
   "outputs": [],
   "source": [
    "conn = redshift_connector.connect(\n",
    "     host='redshift-cluster-1.ctxekmskukzq.us-east-1.redshift.amazonaws.com',\n",
    "     database='dev',\n",
    "     port=5439,\n",
    "     user='awsuser',\n",
    "     password=pw\n",
    "  )"
   ]
  },
  {
   "cell_type": "code",
   "execution_count": 3,
   "id": "a12ee307",
   "metadata": {},
   "outputs": [
    {
     "name": "stdout",
     "output_type": "stream",
     "text": [
      "([1, 'Banana', 'Yellow'], [2, 'Apple', 'Red'], [3, 'Lemon', 'Yellow'], [4, 'Grape', 'Purple'], [5, 'Pear', 'Green'], [6, 'Strawberry', 'Red'])\n"
     ]
    }
   ],
   "source": [
    "# # Create a Cursor object\n",
    "# cursor = conn.cursor()\n",
    "\n",
    "# # Query a table using the Cursor\n",
    "# cursor.execute(\"select * from fruit;\")\n",
    "                \n",
    "# #Retrieve the query result set\n",
    "# result: tuple = cursor.fetchall()\n",
    "# print(result)"
   ]
  },
  {
   "cell_type": "markdown",
   "id": "437f60e3",
   "metadata": {},
   "source": [
    "## Extract Staging Table as CSV"
   ]
  },
  {
   "cell_type": "code",
   "execution_count": 14,
   "id": "93aea1f8",
   "metadata": {},
   "outputs": [],
   "source": [
    "with conn.cursor() as cur:\n",
    "    cur.execute(\"\"\"SELECT * FROM stg_prep_by_year_state\n",
    "        ORDER BY state, yr;\"\"\")\n",
    "    df = cur.fetch_dataframe()"
   ]
  },
  {
   "cell_type": "code",
   "execution_count": 15,
   "id": "140a7563",
   "metadata": {},
   "outputs": [
    {
     "data": {
      "text/html": [
       "<div>\n",
       "<style scoped>\n",
       "    .dataframe tbody tr th:only-of-type {\n",
       "        vertical-align: middle;\n",
       "    }\n",
       "\n",
       "    .dataframe tbody tr th {\n",
       "        vertical-align: top;\n",
       "    }\n",
       "\n",
       "    .dataframe thead th {\n",
       "        text-align: right;\n",
       "    }\n",
       "</style>\n",
       "<table border=\"1\" class=\"dataframe\">\n",
       "  <thead>\n",
       "    <tr style=\"text-align: right;\">\n",
       "      <th></th>\n",
       "      <th>state</th>\n",
       "      <th>state_name</th>\n",
       "      <th>yr</th>\n",
       "      <th>prep_total</th>\n",
       "      <th>station_count</th>\n",
       "    </tr>\n",
       "  </thead>\n",
       "  <tbody>\n",
       "    <tr>\n",
       "      <th>0</th>\n",
       "      <td>AK</td>\n",
       "      <td>ALASKA</td>\n",
       "      <td>1976-01-01</td>\n",
       "      <td>2410</td>\n",
       "      <td>3</td>\n",
       "    </tr>\n",
       "    <tr>\n",
       "      <th>1</th>\n",
       "      <td>AK</td>\n",
       "      <td>ALASKA</td>\n",
       "      <td>1977-01-01</td>\n",
       "      <td>3630</td>\n",
       "      <td>3</td>\n",
       "    </tr>\n",
       "    <tr>\n",
       "      <th>2</th>\n",
       "      <td>AK</td>\n",
       "      <td>ALASKA</td>\n",
       "      <td>1978-01-01</td>\n",
       "      <td>2570</td>\n",
       "      <td>3</td>\n",
       "    </tr>\n",
       "    <tr>\n",
       "      <th>3</th>\n",
       "      <td>AK</td>\n",
       "      <td>ALASKA</td>\n",
       "      <td>1997-01-01</td>\n",
       "      <td>560</td>\n",
       "      <td>3</td>\n",
       "    </tr>\n",
       "    <tr>\n",
       "      <th>4</th>\n",
       "      <td>AK</td>\n",
       "      <td>ALASKA</td>\n",
       "      <td>1998-01-01</td>\n",
       "      <td>3070</td>\n",
       "      <td>4</td>\n",
       "    </tr>\n",
       "    <tr>\n",
       "      <th>...</th>\n",
       "      <td>...</td>\n",
       "      <td>...</td>\n",
       "      <td>...</td>\n",
       "      <td>...</td>\n",
       "      <td>...</td>\n",
       "    </tr>\n",
       "    <tr>\n",
       "      <th>3689</th>\n",
       "      <td>WY</td>\n",
       "      <td>WYOMING</td>\n",
       "      <td>2017-01-01</td>\n",
       "      <td>50389</td>\n",
       "      <td>35</td>\n",
       "    </tr>\n",
       "    <tr>\n",
       "      <th>3690</th>\n",
       "      <td>WY</td>\n",
       "      <td>WYOMING</td>\n",
       "      <td>2018-01-01</td>\n",
       "      <td>37391</td>\n",
       "      <td>34</td>\n",
       "    </tr>\n",
       "    <tr>\n",
       "      <th>3691</th>\n",
       "      <td>WY</td>\n",
       "      <td>WYOMING</td>\n",
       "      <td>2019-01-01</td>\n",
       "      <td>45287</td>\n",
       "      <td>30</td>\n",
       "    </tr>\n",
       "    <tr>\n",
       "      <th>3692</th>\n",
       "      <td>WY</td>\n",
       "      <td>WYOMING</td>\n",
       "      <td>2020-01-01</td>\n",
       "      <td>25200</td>\n",
       "      <td>31</td>\n",
       "    </tr>\n",
       "    <tr>\n",
       "      <th>3693</th>\n",
       "      <td>WY</td>\n",
       "      <td>WYOMING</td>\n",
       "      <td>2021-01-01</td>\n",
       "      <td>1265</td>\n",
       "      <td>27</td>\n",
       "    </tr>\n",
       "  </tbody>\n",
       "</table>\n",
       "<p>3694 rows × 5 columns</p>\n",
       "</div>"
      ],
      "text/plain": [
       "     state state_name         yr  prep_total  station_count\n",
       "0       AK     ALASKA 1976-01-01        2410              3\n",
       "1       AK     ALASKA 1977-01-01        3630              3\n",
       "2       AK     ALASKA 1978-01-01        2570              3\n",
       "3       AK     ALASKA 1997-01-01         560              3\n",
       "4       AK     ALASKA 1998-01-01        3070              4\n",
       "...    ...        ...        ...         ...            ...\n",
       "3689    WY    WYOMING 2017-01-01       50389             35\n",
       "3690    WY    WYOMING 2018-01-01       37391             34\n",
       "3691    WY    WYOMING 2019-01-01       45287             30\n",
       "3692    WY    WYOMING 2020-01-01       25200             31\n",
       "3693    WY    WYOMING 2021-01-01        1265             27\n",
       "\n",
       "[3694 rows x 5 columns]"
      ]
     },
     "execution_count": 15,
     "metadata": {},
     "output_type": "execute_result"
    }
   ],
   "source": [
    "df"
   ]
  },
  {
   "cell_type": "code",
   "execution_count": 16,
   "id": "3d79ecae",
   "metadata": {},
   "outputs": [],
   "source": [
    "conn.close()"
   ]
  },
  {
   "cell_type": "code",
   "execution_count": 17,
   "id": "fba33435",
   "metadata": {},
   "outputs": [
    {
     "data": {
      "text/plain": [
       "state                    object\n",
       "state_name               object\n",
       "yr               datetime64[ns]\n",
       "prep_total                int64\n",
       "station_count             int64\n",
       "dtype: object"
      ]
     },
     "execution_count": 17,
     "metadata": {},
     "output_type": "execute_result"
    }
   ],
   "source": [
    "df.dtypes"
   ]
  },
  {
   "cell_type": "code",
   "execution_count": 21,
   "id": "ec702d6f",
   "metadata": {},
   "outputs": [
    {
     "data": {
      "text/plain": [
       "(3694, 5)"
      ]
     },
     "execution_count": 21,
     "metadata": {},
     "output_type": "execute_result"
    }
   ],
   "source": [
    "df.shape"
   ]
  },
  {
   "cell_type": "code",
   "execution_count": 20,
   "id": "0fc57c36",
   "metadata": {},
   "outputs": [],
   "source": [
    "df.to_csv('../data/out/extract_staging/stg_prep_by_year_state.csv', index=False)"
   ]
  },
  {
   "cell_type": "code",
   "execution_count": null,
   "id": "2654f657",
   "metadata": {},
   "outputs": [],
   "source": []
  }
 ],
 "metadata": {
  "kernelspec": {
   "display_name": "Python 3 (ipykernel)",
   "language": "python",
   "name": "python3"
  },
  "language_info": {
   "codemirror_mode": {
    "name": "ipython",
    "version": 3
   },
   "file_extension": ".py",
   "mimetype": "text/x-python",
   "name": "python",
   "nbconvert_exporter": "python",
   "pygments_lexer": "ipython3",
   "version": "3.10.6"
  }
 },
 "nbformat": 4,
 "nbformat_minor": 5
}
