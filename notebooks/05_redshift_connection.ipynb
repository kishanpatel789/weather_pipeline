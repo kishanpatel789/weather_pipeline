{
 "cells": [
  {
   "cell_type": "markdown",
   "id": "86a2134b",
   "metadata": {},
   "source": [
    "# Attempt Redshift Connection\n",
    "Use ODBC driver to attempt redshift connection. Troubleshoot any security group issues on the Redshfit side."
   ]
  },
  {
   "cell_type": "code",
   "execution_count": 7,
   "id": "06039d6d",
   "metadata": {},
   "outputs": [],
   "source": [
    "import pyodbc"
   ]
  },
  {
   "cell_type": "code",
   "execution_count": 8,
   "id": "82ac62a0",
   "metadata": {},
   "outputs": [
    {
     "ename": "Error",
     "evalue": "('01000', \"[01000] [unixODBC][Driver Manager]Can't open lib 'Amazon Redshift (x64)' : file not found (0) (SQLDriverConnect)\")",
     "output_type": "error",
     "traceback": [
      "\u001b[0;31m---------------------------------------------------------------------------\u001b[0m",
      "\u001b[0;31mError\u001b[0m                                     Traceback (most recent call last)",
      "\u001b[0;32m/tmp/ipykernel_124385/3000971254.py\u001b[0m in \u001b[0;36m<module>\u001b[0;34m\u001b[0m\n\u001b[1;32m      2\u001b[0m \u001b[0mServer\u001b[0m\u001b[0;34m=\u001b[0m\u001b[0mredshift\u001b[0m\u001b[0;34m-\u001b[0m\u001b[0mcluster\u001b[0m\u001b[0;34m-\u001b[0m\u001b[0;36m1.\u001b[0m\u001b[0mctxekmskukzq\u001b[0m\u001b[0;34m.\u001b[0m\u001b[0mus\u001b[0m\u001b[0;34m-\u001b[0m\u001b[0meast\u001b[0m\u001b[0;34m-\u001b[0m\u001b[0;36m1.\u001b[0m\u001b[0mredshift\u001b[0m\u001b[0;34m.\u001b[0m\u001b[0mamazonaws\u001b[0m\u001b[0;34m.\u001b[0m\u001b[0mcom\u001b[0m\u001b[0;34m;\u001b[0m\u001b[0;34m\u001b[0m\u001b[0;34m\u001b[0m\u001b[0m\n\u001b[1;32m      3\u001b[0m Database=dev\"\"\"\n\u001b[0;32m----> 4\u001b[0;31m \u001b[0mconn\u001b[0m \u001b[0;34m=\u001b[0m \u001b[0mpyodbc\u001b[0m\u001b[0;34m.\u001b[0m\u001b[0mconnect\u001b[0m\u001b[0;34m(\u001b[0m\u001b[0mconn_string\u001b[0m\u001b[0;34m)\u001b[0m\u001b[0;34m\u001b[0m\u001b[0;34m\u001b[0m\u001b[0m\n\u001b[0m",
      "\u001b[0;31mError\u001b[0m: ('01000', \"[01000] [unixODBC][Driver Manager]Can't open lib 'Amazon Redshift (x64)' : file not found (0) (SQLDriverConnect)\")"
     ]
    }
   ],
   "source": [
    "conn_string = \"\"\"Driver={Amazon Redshift (x64)}; \n",
    "Server=redshift-cluster-1.ctxekmskukzq.us-east-1.redshift.amazonaws.com; \n",
    "Database=dev\"\"\"\n",
    "conn = pyodbc.connect(conn_string)"
   ]
  },
  {
   "cell_type": "code",
   "execution_count": 5,
   "id": "0ff11c19",
   "metadata": {},
   "outputs": [],
   "source": [
    "# attempt redshift connector library\n",
    "import redshift_connector\n",
    "import getpass"
   ]
  },
  {
   "cell_type": "code",
   "execution_count": 6,
   "id": "51da08d8",
   "metadata": {},
   "outputs": [
    {
     "name": "stdout",
     "output_type": "stream",
     "text": [
      "········\n"
     ]
    }
   ],
   "source": [
    "pw = getpass.getpass()"
   ]
  },
  {
   "cell_type": "code",
   "execution_count": 2,
   "id": "7fd1583e",
   "metadata": {},
   "outputs": [],
   "source": [
    "conn = redshift_connector.connect(\n",
    "     host='redshift-cluster-1.ctxekmskukzq.us-east-1.redshift.amazonaws.com',\n",
    "     database='dev',\n",
    "     port=5439,\n",
    "     user='awsuser',\n",
    "     password=pw\n",
    "  )"
   ]
  },
  {
   "cell_type": "code",
   "execution_count": 3,
   "id": "a12ee307",
   "metadata": {},
   "outputs": [
    {
     "name": "stdout",
     "output_type": "stream",
     "text": [
      "([1, 'Banana', 'Yellow'], [2, 'Apple', 'Red'], [3, 'Lemon', 'Yellow'], [4, 'Grape', 'Purple'], [5, 'Pear', 'Green'], [6, 'Strawberry', 'Red'])\n"
     ]
    }
   ],
   "source": [
    "# Create a Cursor object\n",
    "cursor = conn.cursor()\n",
    "\n",
    "# Query a table using the Cursor\n",
    "cursor.execute(\"select * from fruit;\")\n",
    "                \n",
    "#Retrieve the query result set\n",
    "result: tuple = cursor.fetchall()\n",
    "print(result)"
   ]
  },
  {
   "cell_type": "code",
   "execution_count": 4,
   "id": "3d79ecae",
   "metadata": {},
   "outputs": [],
   "source": [
    "conn.close()"
   ]
  },
  {
   "cell_type": "code",
   "execution_count": null,
   "id": "abf99492",
   "metadata": {},
   "outputs": [],
   "source": []
  }
 ],
 "metadata": {
  "kernelspec": {
   "display_name": "Python 3 (ipykernel)",
   "language": "python",
   "name": "python3"
  },
  "language_info": {
   "codemirror_mode": {
    "name": "ipython",
    "version": 3
   },
   "file_extension": ".py",
   "mimetype": "text/x-python",
   "name": "python",
   "nbconvert_exporter": "python",
   "pygments_lexer": "ipython3",
   "version": "3.10.6"
  }
 },
 "nbformat": 4,
 "nbformat_minor": 5
}
