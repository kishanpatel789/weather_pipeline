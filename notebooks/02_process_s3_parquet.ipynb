{
 "cells": [
  {
   "cell_type": "markdown",
   "id": "18ae57ca",
   "metadata": {},
   "source": [
    "# Process S3 Parquet Files - Scratch Environment\n",
    "2023.01.30"
   ]
  },
  {
   "cell_type": "code",
   "execution_count": 1,
   "id": "1788d4c4",
   "metadata": {},
   "outputs": [],
   "source": [
    "import pyspark\n",
    "from pyspark.sql import SparkSession\n",
    "from pyspark.conf import SparkConf\n",
    "from pyspark.context import SparkContext\n",
    "from pyspark.sql.types import StructType, StructField, StringType, LongType, DateType, DoubleType\n",
    "from pyspark.sql.functions import col, lit, array, explode, arrays_zip, posexplode, \\\n",
    "    sum as sum_, max as max_, min as min_, year, month"
   ]
  },
  {
   "cell_type": "code",
   "execution_count": 2,
   "id": "e29aeeaa",
   "metadata": {},
   "outputs": [],
   "source": [
    "import os\n",
    "os.environ[\"AWS_PROFILE\"] = \"service_wp\""
   ]
  },
  {
   "cell_type": "code",
   "execution_count": 3,
   "id": "67f99e60",
   "metadata": {},
   "outputs": [
    {
     "name": "stdout",
     "output_type": "stream",
     "text": [
      "service_wp\r\n"
     ]
    }
   ],
   "source": [
    "!echo $AWS_PROFILE"
   ]
  },
  {
   "cell_type": "code",
   "execution_count": 13,
   "id": "e5fcab53",
   "metadata": {},
   "outputs": [],
   "source": [
    "# set spark configuration\n",
    "conf = SparkConf() \\\n",
    "    .setMaster('local[*]') \\\n",
    "    .setAppName('process-weather-stations') \\\n",
    "    .set('spark.jars.packages', 'org.apache.hadoop:hadoop-aws:3.3.2') \\\n",
    "    .set('spark.hadoop.fs.s3a.impl', 'org.apache.hadoop.fs.s3a.S3AFileSystem') \\\n",
    "    .set('spark.hadoop.fs.s3a.aws.credentials.provider', 'com.amazonaws.auth.profile.ProfileCredentialsProvider')"
   ]
  },
  {
   "cell_type": "code",
   "execution_count": 14,
   "id": "e5eabcf2",
   "metadata": {},
   "outputs": [],
   "source": [
    "# instantiate Spark session\n",
    "spark = SparkSession.builder \\\n",
    "    .config(conf=conf) \\\n",
    "    .getOrCreate()"
   ]
  },
  {
   "cell_type": "code",
   "execution_count": 15,
   "id": "f3c74071",
   "metadata": {},
   "outputs": [],
   "source": [
    "station_schema = StructType([StructField('STATION', StringType(), True),\n",
    " StructField('NAME', StringType(), True),\n",
    " StructField('LATITUDE', DoubleType(), True),\n",
    " StructField('LONGITUDE', DoubleType(), True),\n",
    " StructField('ELEVATION', DoubleType(), True),\n",
    " StructField('DATE', DateType(), True),\n",
    " StructField('HR00Val', LongType(), True),\n",
    " StructField('HR00MF', StringType(), True),\n",
    " StructField('HR00QF', StringType(), True),\n",
    " StructField('HR00S1', StringType(), True),\n",
    " StructField('HR00S2', StringType(), True),\n",
    " StructField('HR01Val', LongType(), True),\n",
    " StructField('HR01MF', StringType(), True),\n",
    " StructField('HR01QF', StringType(), True),\n",
    " StructField('HR01S1', StringType(), True),\n",
    " StructField('HR01S2', StringType(), True),\n",
    " StructField('HR02Val', LongType(), True),\n",
    " StructField('HR02MF', StringType(), True),\n",
    " StructField('HR02QF', StringType(), True),\n",
    " StructField('HR02S1', StringType(), True),\n",
    " StructField('HR02S2', StringType(), True),\n",
    " StructField('HR03Val', LongType(), True),\n",
    " StructField('HR03MF', StringType(), True),\n",
    " StructField('HR03QF', StringType(), True),\n",
    " StructField('HR03S1', StringType(), True),\n",
    " StructField('HR03S2', StringType(), True),\n",
    " StructField('HR04Val', LongType(), True),\n",
    " StructField('HR04MF', StringType(), True),\n",
    " StructField('HR04QF', StringType(), True),\n",
    " StructField('HR04S1', StringType(), True),\n",
    " StructField('HR04S2', StringType(), True),\n",
    " StructField('HR05Val', LongType(), True),\n",
    " StructField('HR05MF', StringType(), True),\n",
    " StructField('HR05QF', StringType(), True),\n",
    " StructField('HR05S1', StringType(), True),\n",
    " StructField('HR05S2', StringType(), True),\n",
    " StructField('HR06Val', LongType(), True),\n",
    " StructField('HR06MF', StringType(), True),\n",
    " StructField('HR06QF', StringType(), True),\n",
    " StructField('HR06S1', StringType(), True),\n",
    " StructField('HR06S2', StringType(), True),\n",
    " StructField('HR07Val', LongType(), True),\n",
    " StructField('HR07MF', StringType(), True),\n",
    " StructField('HR07QF', StringType(), True),\n",
    " StructField('HR07S1', StringType(), True),\n",
    " StructField('HR07S2', StringType(), True),\n",
    " StructField('HR08Val', LongType(), True),\n",
    " StructField('HR08MF', StringType(), True),\n",
    " StructField('HR08QF', StringType(), True),\n",
    " StructField('HR08S1', StringType(), True),\n",
    " StructField('HR08S2', StringType(), True),\n",
    " StructField('HR09Val', LongType(), True),\n",
    " StructField('HR09MF', StringType(), True),\n",
    " StructField('HR09QF', StringType(), True),\n",
    " StructField('HR09S1', StringType(), True),\n",
    " StructField('HR09S2', StringType(), True),\n",
    " StructField('HR10Val', LongType(), True),\n",
    " StructField('HR10MF', StringType(), True),\n",
    " StructField('HR10QF', StringType(), True),\n",
    " StructField('HR10S1', StringType(), True),\n",
    " StructField('HR10S2', StringType(), True),\n",
    " StructField('HR11Val', LongType(), True),\n",
    " StructField('HR11MF', StringType(), True),\n",
    " StructField('HR11QF', StringType(), True),\n",
    " StructField('HR11S1', StringType(), True),\n",
    " StructField('HR11S2', StringType(), True),\n",
    " StructField('HR12Val', LongType(), True),\n",
    " StructField('HR12MF', StringType(), True),\n",
    " StructField('HR12QF', StringType(), True),\n",
    " StructField('HR12S1', StringType(), True),\n",
    " StructField('HR12S2', StringType(), True),\n",
    " StructField('HR13Val', LongType(), True),\n",
    " StructField('HR13MF', StringType(), True),\n",
    " StructField('HR13QF', StringType(), True),\n",
    " StructField('HR13S1', StringType(), True),\n",
    " StructField('HR13S2', StringType(), True),\n",
    " StructField('HR14Val', LongType(), True),\n",
    " StructField('HR14MF', StringType(), True),\n",
    " StructField('HR14QF', StringType(), True),\n",
    " StructField('HR14S1', StringType(), True),\n",
    " StructField('HR14S2', StringType(), True),\n",
    " StructField('HR15Val', LongType(), True),\n",
    " StructField('HR15MF', StringType(), True),\n",
    " StructField('HR15QF', StringType(), True),\n",
    " StructField('HR15S1', StringType(), True),\n",
    " StructField('HR15S2', StringType(), True),\n",
    " StructField('HR16Val', LongType(), True),\n",
    " StructField('HR16MF', StringType(), True),\n",
    " StructField('HR16QF', StringType(), True),\n",
    " StructField('HR16S1', StringType(), True),\n",
    " StructField('HR16S2', StringType(), True),\n",
    " StructField('HR17Val', LongType(), True),\n",
    " StructField('HR17MF', StringType(), True),\n",
    " StructField('HR17QF', StringType(), True),\n",
    " StructField('HR17S1', StringType(), True),\n",
    " StructField('HR17S2', StringType(), True),\n",
    " StructField('HR18Val', LongType(), True),\n",
    " StructField('HR18MF', StringType(), True),\n",
    " StructField('HR18QF', StringType(), True),\n",
    " StructField('HR18S1', StringType(), True),\n",
    " StructField('HR18S2', StringType(), True),\n",
    " StructField('HR19Val', LongType(), True),\n",
    " StructField('HR19MF', StringType(), True),\n",
    " StructField('HR19QF', StringType(), True),\n",
    " StructField('HR19S1', StringType(), True),\n",
    " StructField('HR19S2', StringType(), True),\n",
    " StructField('HR20Val', LongType(), True),\n",
    " StructField('HR20MF', StringType(), True),\n",
    " StructField('HR20QF', StringType(), True),\n",
    " StructField('HR20S1', StringType(), True),\n",
    " StructField('HR20S2', StringType(), True),\n",
    " StructField('HR21Val', LongType(), True),\n",
    " StructField('HR21MF', StringType(), True),\n",
    " StructField('HR21QF', StringType(), True),\n",
    " StructField('HR21S1', StringType(), True),\n",
    " StructField('HR21S2', StringType(), True),\n",
    " StructField('HR22Val', LongType(), True),\n",
    " StructField('HR22MF', StringType(), True),\n",
    " StructField('HR22QF', StringType(), True),\n",
    " StructField('HR22S1', StringType(), True),\n",
    " StructField('HR22S2', StringType(), True),\n",
    " StructField('HR23Val', LongType(), True),\n",
    " StructField('HR23MF', StringType(), True),\n",
    " StructField('HR23QF', StringType(), True),\n",
    " StructField('HR23S1', StringType(), True),\n",
    " StructField('HR23S2', StringType(), True),\n",
    " StructField('DlySum', LongType(), True),\n",
    " StructField('DlySumMF', StringType(), True),\n",
    " StructField('DlySumQF', StringType(), True),\n",
    " StructField('DlySumS1', StringType(), True),\n",
    " StructField('DlySumS2', StringType(), True)])"
   ]
  },
  {
   "cell_type": "code",
   "execution_count": 16,
   "id": "b5243c7d",
   "metadata": {},
   "outputs": [],
   "source": [
    "df = spark.read.schema(station_schema).parquet('s3a://weather-data-kpde/raw/*')"
   ]
  },
  {
   "cell_type": "code",
   "execution_count": 17,
   "id": "48f4413e",
   "metadata": {},
   "outputs": [
    {
     "name": "stderr",
     "output_type": "stream",
     "text": [
      "                                                                                \r"
     ]
    },
    {
     "data": {
      "text/plain": [
       "27799"
      ]
     },
     "execution_count": 17,
     "metadata": {},
     "output_type": "execute_result"
    }
   ],
   "source": [
    "df.count()"
   ]
  },
  {
   "cell_type": "code",
   "execution_count": 10,
   "id": "a640fdc4",
   "metadata": {},
   "outputs": [
    {
     "name": "stdout",
     "output_type": "stream",
     "text": [
      "23/01/30 19:42:49 WARN package: Truncated the string representation of a plan since it was too large. This behavior can be adjusted by setting 'spark.sql.debug.maxToStringFields'.\n"
     ]
    },
    {
     "name": "stderr",
     "output_type": "stream",
     "text": [
      "                                                                                \r"
     ]
    }
   ],
   "source": [
    "df.coalesce(1).write.mode('overwrite').parquet('s3a://weather-data-kpde/out/')"
   ]
  },
  {
   "cell_type": "code",
   "execution_count": 18,
   "id": "1ed5b8a2",
   "metadata": {},
   "outputs": [],
   "source": [
    "# function to generate hourly columns\n",
    "def generate_cols_as_array(col_name):\n",
    "    return array([col(f'HR{i:02}{col_name}') for i in range(24)]).alias(col_name)"
   ]
  },
  {
   "cell_type": "code",
   "execution_count": 19,
   "id": "61cae246",
   "metadata": {},
   "outputs": [],
   "source": [
    "# unstack hourly columns\n",
    "col_types = ['Val', 'MF', 'QF', 'S1', 'S2']\n",
    "\n",
    "df_t = (df.select('STATION', 'DATE', arrays_zip(*[generate_cols_as_array(c) for c in col_types]\n",
    "                                          ).alias('zip'))  # generate zipped arrays for each hour\n",
    " .select('*', posexplode('zip').alias('hr', 'exp'))  # explode zipped arrays\n",
    " .select('*', *[col('exp')[c].alias(c) for c in col_types],  # extract array\n",
    "        )\n",
    " .select('STATION', 'DATE', 'hr', *col_types)\n",
    ")"
   ]
  },
  {
   "cell_type": "code",
   "execution_count": 20,
   "id": "f098d702",
   "metadata": {},
   "outputs": [],
   "source": [
    "# replace -9999 values and ' ' strings with null\n",
    "df_t = (df_t.replace({-9999: None}, subset=['Val'])\n",
    "     .replace({' ': None}, subset=['MF', 'QF', 'S1', 'S2'])\n",
    ")"
   ]
  },
  {
   "cell_type": "code",
   "execution_count": 21,
   "id": "18b216e9",
   "metadata": {},
   "outputs": [],
   "source": [
    "df_t = df_t.withColumn('year', year('DATE'))"
   ]
  },
  {
   "cell_type": "code",
   "execution_count": 22,
   "id": "403e24e5",
   "metadata": {},
   "outputs": [
    {
     "name": "stderr",
     "output_type": "stream",
     "text": [
      "                                                                                \r"
     ]
    }
   ],
   "source": [
    "df_t.write.mode('overwrite').partitionBy('year').parquet('s3a://weather-data-kpde/out/')"
   ]
  },
  {
   "cell_type": "code",
   "execution_count": null,
   "id": "d77b34a0",
   "metadata": {},
   "outputs": [],
   "source": []
  },
  {
   "cell_type": "code",
   "execution_count": 31,
   "id": "a3a7744e",
   "metadata": {},
   "outputs": [
    {
     "name": "stderr",
     "output_type": "stream",
     "text": [
      "\r",
      "[Stage 6:>                                                          (0 + 1) / 1]\r"
     ]
    },
    {
     "name": "stdout",
     "output_type": "stream",
     "text": [
      "-RECORD 0----------------------------------------\n",
      " STATION   | CQC00914855                         \n",
      " NAME      | SAIPAN INTERNATIONAL AIRPORT, MP CQ \n",
      " LATITUDE  | 15.11667                            \n",
      " LONGITUDE | 145.71667                           \n",
      " ELEVATION | 65.5                                \n",
      " DATE      | 1979-09-01                          \n",
      " HR00Val   | 0                                   \n",
      " HR00MF    | g                                   \n",
      " HR00QF    |                                     \n",
      " HR00S1    | 4                                   \n",
      " HR00S2    |                                     \n",
      " HR01Val   | 0                                   \n",
      " HR01MF    | Z                                   \n",
      " HR01QF    |                                     \n",
      " HR01S1    | 4                                   \n",
      " HR01S2    |                                     \n",
      " HR02Val   | 0                                   \n",
      " HR02MF    | Z                                   \n",
      " HR02QF    |                                     \n",
      " HR02S1    | 4                                   \n",
      " HR02S2    |                                     \n",
      " HR03Val   | 0                                   \n",
      " HR03MF    | Z                                   \n",
      " HR03QF    |                                     \n",
      " HR03S1    | 4                                   \n",
      " HR03S2    |                                     \n",
      " HR04Val   | 0                                   \n",
      " HR04MF    | Z                                   \n",
      " HR04QF    |                                     \n",
      " HR04S1    | 4                                   \n",
      " HR04S2    |                                     \n",
      " HR05Val   | 0                                   \n",
      " HR05MF    | Z                                   \n",
      " HR05QF    |                                     \n",
      " HR05S1    | 4                                   \n",
      " HR05S2    |                                     \n",
      " HR06Val   | 0                                   \n",
      " HR06MF    | Z                                   \n",
      " HR06QF    |                                     \n",
      " HR06S1    | 4                                   \n",
      " HR06S2    |                                     \n",
      " HR07Val   | 0                                   \n",
      " HR07MF    | Z                                   \n",
      " HR07QF    |                                     \n",
      " HR07S1    | 4                                   \n",
      " HR07S2    |                                     \n",
      " HR08Val   | 0                                   \n",
      " HR08MF    | Z                                   \n",
      " HR08QF    |                                     \n",
      " HR08S1    | 4                                   \n",
      " HR08S2    |                                     \n",
      " HR09Val   | 0                                   \n",
      " HR09MF    | Z                                   \n",
      " HR09QF    |                                     \n",
      " HR09S1    | 4                                   \n",
      " HR09S2    |                                     \n",
      " HR10Val   | 0                                   \n",
      " HR10MF    | Z                                   \n",
      " HR10QF    |                                     \n",
      " HR10S1    | 4                                   \n",
      " HR10S2    |                                     \n",
      " HR11Val   | 0                                   \n",
      " HR11MF    | Z                                   \n",
      " HR11QF    |                                     \n",
      " HR11S1    | 4                                   \n",
      " HR11S2    |                                     \n",
      " HR12Val   | 0                                   \n",
      " HR12MF    | Z                                   \n",
      " HR12QF    |                                     \n",
      " HR12S1    | 4                                   \n",
      " HR12S2    |                                     \n",
      " HR13Val   | 0                                   \n",
      " HR13MF    | Z                                   \n",
      " HR13QF    |                                     \n",
      " HR13S1    | 4                                   \n",
      " HR13S2    |                                     \n",
      " HR14Val   | 0                                   \n",
      " HR14MF    | Z                                   \n",
      " HR14QF    |                                     \n",
      " HR14S1    | 4                                   \n",
      " HR14S2    |                                     \n",
      " HR15Val   | 0                                   \n",
      " HR15MF    | Z                                   \n",
      " HR15QF    |                                     \n",
      " HR15S1    | 4                                   \n",
      " HR15S2    |                                     \n",
      " HR16Val   | 0                                   \n",
      " HR16MF    | Z                                   \n",
      " HR16QF    |                                     \n",
      " HR16S1    | 4                                   \n",
      " HR16S2    |                                     \n",
      " HR17Val   | 0                                   \n",
      " HR17MF    | Z                                   \n",
      " HR17QF    |                                     \n",
      " HR17S1    | 4                                   \n",
      " HR17S2    |                                     \n",
      " HR18Val   | 0                                   \n",
      " HR18MF    | Z                                   \n",
      " HR18QF    |                                     \n",
      " HR18S1    | 4                                   \n",
      " HR18S2    |                                     \n",
      " HR19Val   | 0                                   \n",
      " HR19MF    | Z                                   \n",
      " HR19QF    |                                     \n",
      " HR19S1    | 4                                   \n",
      " HR19S2    |                                     \n",
      " HR20Val   | 0                                   \n",
      " HR20MF    | Z                                   \n",
      " HR20QF    |                                     \n",
      " HR20S1    | 4                                   \n",
      " HR20S2    |                                     \n",
      " HR21Val   | 0                                   \n",
      " HR21MF    | Z                                   \n",
      " HR21QF    |                                     \n",
      " HR21S1    | 4                                   \n",
      " HR21S2    |                                     \n",
      " HR22Val   | 0                                   \n",
      " HR22MF    | Z                                   \n",
      " HR22QF    |                                     \n",
      " HR22S1    | 4                                   \n",
      " HR22S2    |                                     \n",
      " HR23Val   | 0                                   \n",
      " HR23MF    | Z                                   \n",
      " HR23QF    |                                     \n",
      " HR23S1    | 4                                   \n",
      " HR23S2    |                                     \n",
      " DlySum    | 0                                   \n",
      " DlySumMF  |                                     \n",
      " DlySumQF  |                                     \n",
      " DlySumS1  |                                     \n",
      " DlySumS2  | C                                   \n",
      "-RECORD 1----------------------------------------\n",
      " STATION   | CQC00914855                         \n",
      " NAME      | SAIPAN INTERNATIONAL AIRPORT, MP CQ \n",
      " LATITUDE  | 15.11667                            \n",
      " LONGITUDE | 145.71667                           \n",
      " ELEVATION | 65.5                                \n",
      " DATE      | 1979-09-02                          \n",
      " HR00Val   | 0                                   \n",
      " HR00MF    | Z                                   \n",
      " HR00QF    |                                     \n",
      " HR00S1    | 4                                   \n",
      " HR00S2    |                                     \n",
      " HR01Val   | 0                                   \n",
      " HR01MF    | Z                                   \n",
      " HR01QF    |                                     \n",
      " HR01S1    | 4                                   \n",
      " HR01S2    |                                     \n",
      " HR02Val   | 0                                   \n",
      " HR02MF    | Z                                   \n",
      " HR02QF    |                                     \n",
      " HR02S1    | 4                                   \n",
      " HR02S2    |                                     \n",
      " HR03Val   | 0                                   \n",
      " HR03MF    | Z                                   \n",
      " HR03QF    |                                     \n",
      " HR03S1    | 4                                   \n",
      " HR03S2    |                                     \n",
      " HR04Val   | 0                                   \n",
      " HR04MF    | Z                                   \n",
      " HR04QF    |                                     \n",
      " HR04S1    | 4                                   \n",
      " HR04S2    |                                     \n",
      " HR05Val   | 0                                   \n",
      " HR05MF    | Z                                   \n",
      " HR05QF    |                                     \n",
      " HR05S1    | 4                                   \n",
      " HR05S2    |                                     \n",
      " HR06Val   | 0                                   \n",
      " HR06MF    | Z                                   \n",
      " HR06QF    |                                     \n",
      " HR06S1    | 4                                   \n",
      " HR06S2    |                                     \n",
      " HR07Val   | 0                                   \n",
      " HR07MF    | Z                                   \n",
      " HR07QF    |                                     \n",
      " HR07S1    | 4                                   \n",
      " HR07S2    |                                     \n",
      " HR08Val   | 0                                   \n",
      " HR08MF    | Z                                   \n",
      " HR08QF    |                                     \n",
      " HR08S1    | 4                                   \n",
      " HR08S2    |                                     \n",
      " HR09Val   | 0                                   \n",
      " HR09MF    | Z                                   \n",
      " HR09QF    |                                     \n",
      " HR09S1    | 4                                   \n",
      " HR09S2    |                                     \n",
      " HR10Val   | 0                                   \n",
      " HR10MF    | Z                                   \n",
      " HR10QF    |                                     \n",
      " HR10S1    | 4                                   \n",
      " HR10S2    |                                     \n",
      " HR11Val   | 0                                   \n",
      " HR11MF    | Z                                   \n",
      " HR11QF    |                                     \n",
      " HR11S1    | 4                                   \n",
      " HR11S2    |                                     \n",
      " HR12Val   | 0                                   \n",
      " HR12MF    | Z                                   \n",
      " HR12QF    |                                     \n",
      " HR12S1    | 4                                   \n",
      " HR12S2    |                                     \n",
      " HR13Val   | 0                                   \n",
      " HR13MF    | Z                                   \n",
      " HR13QF    |                                     \n",
      " HR13S1    | 4                                   \n",
      " HR13S2    |                                     \n",
      " HR14Val   | 0                                   \n",
      " HR14MF    | Z                                   \n",
      " HR14QF    |                                     \n",
      " HR14S1    | 4                                   \n",
      " HR14S2    |                                     \n",
      " HR15Val   | 0                                   \n",
      " HR15MF    | Z                                   \n",
      " HR15QF    |                                     \n",
      " HR15S1    | 4                                   \n",
      " HR15S2    |                                     \n",
      " HR16Val   | 0                                   \n",
      " HR16MF    | Z                                   \n",
      " HR16QF    |                                     \n",
      " HR16S1    | 4                                   \n",
      " HR16S2    |                                     \n",
      " HR17Val   | 0                                   \n",
      " HR17MF    | Z                                   \n",
      " HR17QF    |                                     \n",
      " HR17S1    | 4                                   \n",
      " HR17S2    |                                     \n",
      " HR18Val   | 0                                   \n",
      " HR18MF    | Z                                   \n",
      " HR18QF    |                                     \n",
      " HR18S1    | 4                                   \n",
      " HR18S2    |                                     \n",
      " HR19Val   | 0                                   \n",
      " HR19MF    | Z                                   \n",
      " HR19QF    |                                     \n",
      " HR19S1    | 4                                   \n",
      " HR19S2    |                                     \n",
      " HR20Val   | 0                                   \n",
      " HR20MF    | Z                                   \n",
      " HR20QF    |                                     \n",
      " HR20S1    | 4                                   \n",
      " HR20S2    |                                     \n",
      " HR21Val   | 0                                   \n",
      " HR21MF    | Z                                   \n",
      " HR21QF    |                                     \n",
      " HR21S1    | 4                                   \n",
      " HR21S2    |                                     \n",
      " HR22Val   | 0                                   \n",
      " HR22MF    | Z                                   \n",
      " HR22QF    |                                     \n",
      " HR22S1    | 4                                   \n",
      " HR22S2    |                                     \n",
      " HR23Val   | 0                                   \n",
      " HR23MF    | Z                                   \n",
      " HR23QF    |                                     \n",
      " HR23S1    | 4                                   \n",
      " HR23S2    |                                     \n",
      " DlySum    | 0                                   \n",
      " DlySumMF  |                                     \n",
      " DlySumQF  |                                     \n",
      " DlySumS1  |                                     \n",
      " DlySumS2  | C                                   \n",
      "only showing top 2 rows\n",
      "\n"
     ]
    },
    {
     "name": "stderr",
     "output_type": "stream",
     "text": [
      "\r",
      "                                                                                \r"
     ]
    }
   ],
   "source": [
    "df.show(2,False,True)"
   ]
  },
  {
   "cell_type": "code",
   "execution_count": 17,
   "id": "7ee55c84",
   "metadata": {},
   "outputs": [
    {
     "name": "stderr",
     "output_type": "stream",
     "text": [
      "                                                                                \r"
     ]
    },
    {
     "data": {
      "text/plain": [
       "27799"
      ]
     },
     "execution_count": 17,
     "metadata": {},
     "output_type": "execute_result"
    }
   ],
   "source": [
    "df.count()"
   ]
  },
  {
   "cell_type": "code",
   "execution_count": 11,
   "id": "d5f333db",
   "metadata": {},
   "outputs": [],
   "source": [
    "spark.stop()"
   ]
  },
  {
   "cell_type": "code",
   "execution_count": null,
   "id": "177dc023",
   "metadata": {},
   "outputs": [],
   "source": []
  }
 ],
 "metadata": {
  "kernelspec": {
   "display_name": "Python 3 (ipykernel)",
   "language": "python",
   "name": "python3"
  },
  "language_info": {
   "codemirror_mode": {
    "name": "ipython",
    "version": 3
   },
   "file_extension": ".py",
   "mimetype": "text/x-python",
   "name": "python",
   "nbconvert_exporter": "python",
   "pygments_lexer": "ipython3",
   "version": "3.10.6"
  }
 },
 "nbformat": 4,
 "nbformat_minor": 5
}
