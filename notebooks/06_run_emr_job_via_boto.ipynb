{
 "cells": [
  {
   "cell_type": "markdown",
   "id": "a1467e00",
   "metadata": {},
   "source": [
    "# Run EMR Job via Boto\n",
    "Objective: Develop code to execute EMR job using Boto alone.  \n",
    "https://boto3.amazonaws.com/v1/documentation/api/latest/reference/services/emr.html"
   ]
  },
  {
   "cell_type": "code",
   "execution_count": 3,
   "id": "8f12f52a",
   "metadata": {},
   "outputs": [],
   "source": [
    "import boto3"
   ]
  },
  {
   "cell_type": "code",
   "execution_count": 4,
   "id": "1fe547ab",
   "metadata": {},
   "outputs": [],
   "source": [
    "client = boto3.session.Session(profile_name='service_wp').client('emr')"
   ]
  },
  {
   "cell_type": "code",
   "execution_count": 4,
   "id": "23bce73e",
   "metadata": {},
   "outputs": [
    {
     "data": {
      "text/plain": [
       "{'Clusters': [{'Id': 'j-LGO98Y54966M',\n",
       "   'Name': 'emr-cluster-kp-0425-boto',\n",
       "   'Status': {'State': 'TERMINATED',\n",
       "    'StateChangeReason': {'Code': 'USER_REQUEST',\n",
       "     'Message': 'Terminated by user request'},\n",
       "    'Timeline': {'CreationDateTime': datetime.datetime(2023, 4, 25, 7, 25, 10, 172000, tzinfo=tzlocal()),\n",
       "     'ReadyDateTime': datetime.datetime(2023, 4, 25, 7, 30, 19, 65000, tzinfo=tzlocal()),\n",
       "     'EndDateTime': datetime.datetime(2023, 4, 25, 7, 35, 29, 295000, tzinfo=tzlocal())}},\n",
       "   'NormalizedInstanceHours': 8,\n",
       "   'ClusterArn': 'arn:aws:elasticmapreduce:us-east-1:655268872845:cluster/j-LGO98Y54966M'},\n",
       "  {'Id': 'j-39PQN52H558BE',\n",
       "   'Name': 'emr-cluster-kp-0425-boto',\n",
       "   'Status': {'State': 'TERMINATED',\n",
       "    'StateChangeReason': {'Code': 'USER_REQUEST',\n",
       "     'Message': 'Terminated by user request'},\n",
       "    'Timeline': {'CreationDateTime': datetime.datetime(2023, 4, 25, 7, 15, 46, 924000, tzinfo=tzlocal()),\n",
       "     'ReadyDateTime': datetime.datetime(2023, 4, 25, 7, 19, 41, 16000, tzinfo=tzlocal()),\n",
       "     'EndDateTime': datetime.datetime(2023, 4, 25, 7, 25, 21, 997000, tzinfo=tzlocal())}},\n",
       "   'NormalizedInstanceHours': 8,\n",
       "   'ClusterArn': 'arn:aws:elasticmapreduce:us-east-1:655268872845:cluster/j-39PQN52H558BE'},\n",
       "  {'Id': 'j-3NO2D6LP8TVCS',\n",
       "   'Name': 'emr-kp',\n",
       "   'Status': {'State': 'TERMINATED',\n",
       "    'StateChangeReason': {'Code': 'USER_REQUEST',\n",
       "     'Message': 'Terminated by user request'},\n",
       "    'Timeline': {'CreationDateTime': datetime.datetime(2023, 4, 19, 6, 42, 28, 698000, tzinfo=tzlocal()),\n",
       "     'ReadyDateTime': datetime.datetime(2023, 4, 19, 6, 46, 57, 88000, tzinfo=tzlocal()),\n",
       "     'EndDateTime': datetime.datetime(2023, 4, 19, 6, 52, 36, 573000, tzinfo=tzlocal())}},\n",
       "   'NormalizedInstanceHours': 8,\n",
       "   'ClusterArn': 'arn:aws:elasticmapreduce:us-east-1:655268872845:cluster/j-3NO2D6LP8TVCS'}],\n",
       " 'ResponseMetadata': {'RequestId': '65108a22-d5c9-4ae4-9fbe-da148da8bc69',\n",
       "  'HTTPStatusCode': 200,\n",
       "  'HTTPHeaders': {'x-amzn-requestid': '65108a22-d5c9-4ae4-9fbe-da148da8bc69',\n",
       "   'content-type': 'application/x-amz-json-1.1',\n",
       "   'content-length': '1200',\n",
       "   'date': 'Tue, 25 Apr 2023 23:33:28 GMT'},\n",
       "  'RetryAttempts': 0}}"
      ]
     },
     "execution_count": 4,
     "metadata": {},
     "output_type": "execute_result"
    }
   ],
   "source": [
    "client.list_clusters()"
   ]
  },
  {
   "cell_type": "code",
   "execution_count": 7,
   "id": "08321206",
   "metadata": {},
   "outputs": [
    {
     "data": {
      "text/plain": [
       "{'Cluster': {'Id': 'j-3NO2D6LP8TVCS',\n",
       "  'Name': 'emr-kp',\n",
       "  'Status': {'State': 'TERMINATED',\n",
       "   'StateChangeReason': {'Code': 'USER_REQUEST',\n",
       "    'Message': 'Terminated by user request'},\n",
       "   'Timeline': {'CreationDateTime': datetime.datetime(2023, 4, 19, 6, 42, 28, 698000, tzinfo=tzlocal()),\n",
       "    'ReadyDateTime': datetime.datetime(2023, 4, 19, 6, 46, 57, 88000, tzinfo=tzlocal()),\n",
       "    'EndDateTime': datetime.datetime(2023, 4, 19, 6, 52, 36, 573000, tzinfo=tzlocal())}},\n",
       "  'Ec2InstanceAttributes': {'Ec2SubnetId': 'subnet-0179f300743d7583c',\n",
       "   'RequestedEc2SubnetIds': ['subnet-0179f300743d7583c'],\n",
       "   'Ec2AvailabilityZone': 'us-east-1d',\n",
       "   'RequestedEc2AvailabilityZones': [],\n",
       "   'IamInstanceProfile': 'emr-ec2-role',\n",
       "   'EmrManagedMasterSecurityGroup': 'sg-0b3081a1938c163a5',\n",
       "   'EmrManagedSlaveSecurityGroup': 'sg-0abb5aa1d5fad5681',\n",
       "   'AdditionalMasterSecurityGroups': [],\n",
       "   'AdditionalSlaveSecurityGroups': []},\n",
       "  'InstanceCollectionType': 'INSTANCE_GROUP',\n",
       "  'ReleaseLabel': 'emr-6.10.0',\n",
       "  'AutoTerminate': False,\n",
       "  'TerminationProtected': False,\n",
       "  'VisibleToAllUsers': True,\n",
       "  'Applications': [{'Name': 'Spark', 'Version': '3.3.1'},\n",
       "   {'Name': 'Zeppelin', 'Version': '0.10.1'}],\n",
       "  'Tags': [],\n",
       "  'ServiceRole': 'arn:aws:iam::655268872845:role/emr-role',\n",
       "  'NormalizedInstanceHours': 8,\n",
       "  'MasterPublicDnsName': 'ec2-54-164-213-221.compute-1.amazonaws.com',\n",
       "  'Configurations': [],\n",
       "  'ScaleDownBehavior': 'TERMINATE_AT_TASK_COMPLETION',\n",
       "  'KerberosAttributes': {},\n",
       "  'ClusterArn': 'arn:aws:elasticmapreduce:us-east-1:655268872845:cluster/j-3NO2D6LP8TVCS',\n",
       "  'StepConcurrencyLevel': 1,\n",
       "  'PlacementGroups': []},\n",
       " 'ResponseMetadata': {'RequestId': '9bb21027-0f7b-402f-a834-6b2b64d4668b',\n",
       "  'HTTPStatusCode': 200,\n",
       "  'HTTPHeaders': {'x-amzn-requestid': '9bb21027-0f7b-402f-a834-6b2b64d4668b',\n",
       "   'content-type': 'application/x-amz-json-1.1',\n",
       "   'content-length': '1378',\n",
       "   'date': 'Wed, 19 Apr 2023 23:37:15 GMT'},\n",
       "  'RetryAttempts': 0}}"
      ]
     },
     "execution_count": 7,
     "metadata": {},
     "output_type": "execute_result"
    }
   ],
   "source": [
    "client.describe_cluster(ClusterId='j-3NO2D6LP8TVCS')"
   ]
  },
  {
   "cell_type": "code",
   "execution_count": 7,
   "id": "73fb4d00",
   "metadata": {},
   "outputs": [],
   "source": [
    "response = client.run_job_flow(\n",
    "    Name='emr-cluster-kp-0425-boto-2',\n",
    "    ReleaseLabel='emr-6.10.0',\n",
    "    Instances={\n",
    "        'InstanceGroups': [\n",
    "            {\n",
    "                'Name': 'inst1',\n",
    "                'Market': 'ON_DEMAND',\n",
    "                'InstanceRole': 'MASTER',\n",
    "                'InstanceType': 'm5.xlarge',\n",
    "                'InstanceCount': 1,\n",
    "            },\n",
    "        ],\n",
    "        'KeepJobFlowAliveWhenNoSteps': False,\n",
    "        'TerminationProtected': False,\n",
    "        'Ec2SubnetId': 'subnet-0179f300743d7583c',\n",
    "        'EmrManagedMasterSecurityGroup': 'sg-0b3081a1938c163a5',\n",
    "        'EmrManagedSlaveSecurityGroup': 'sg-0b3081a1938c163a5',\n",
    "        'AdditionalMasterSecurityGroups': [],\n",
    "        'AdditionalSlaveSecurityGroups': []\n",
    "    },\n",
    "    Steps=[\n",
    "    {\n",
    "        \"Name\": \"run1\",\n",
    "        \"ActionOnFailure\": \"CANCEL_AND_WAIT\",\n",
    "        \"HadoopJarStep\": {\n",
    "            \"Jar\": \"command-runner.jar\",\n",
    "            \"Args\": [\"spark-submit\", \n",
    "                     \"--deploy-mode\", \n",
    "                     \"cluster\",\n",
    "                     \"s3://weather-data-kpde/code/02_process_s3_parquet.py\"],\n",
    "        },\n",
    "    }\n",
    "    ],\n",
    "    Applications=[{'Name': 'Spark'}],\n",
    "    VisibleToAllUsers=True,\n",
    "    JobFlowRole='emr-ec2-role',\n",
    "    ServiceRole='emr-role',\n",
    "    Tags=[\n",
    "        {\n",
    "            'Key': 'for-use-with-amazon-emr-managed-policies',\n",
    "            'Value': 'true'\n",
    "        },\n",
    "    ],\n",
    "    AutoTerminationPolicy={\n",
    "        'IdleTimeout': 1*60*60\n",
    "    }\n",
    ")"
   ]
  },
  {
   "cell_type": "code",
   "execution_count": 8,
   "id": "64b0fb1e",
   "metadata": {},
   "outputs": [
    {
     "data": {
      "text/plain": [
       "{'JobFlowId': 'j-3VNKAAJ3WMCNF',\n",
       " 'ClusterArn': 'arn:aws:elasticmapreduce:us-east-1:655268872845:cluster/j-3VNKAAJ3WMCNF',\n",
       " 'ResponseMetadata': {'RequestId': '02ce37e1-6515-49ab-91c2-d28e9a0b9399',\n",
       "  'HTTPStatusCode': 200,\n",
       "  'HTTPHeaders': {'x-amzn-requestid': '02ce37e1-6515-49ab-91c2-d28e9a0b9399',\n",
       "   'content-type': 'application/x-amz-json-1.1',\n",
       "   'content-length': '118',\n",
       "   'date': 'Mon, 01 May 2023 23:26:36 GMT'},\n",
       "  'RetryAttempts': 0}}"
      ]
     },
     "execution_count": 8,
     "metadata": {},
     "output_type": "execute_result"
    }
   ],
   "source": [
    "response"
   ]
  },
  {
   "cell_type": "code",
   "execution_count": 9,
   "id": "51ea5618",
   "metadata": {},
   "outputs": [
    {
     "data": {
      "text/plain": [
       "'j-3VNKAAJ3WMCNF'"
      ]
     },
     "execution_count": 9,
     "metadata": {},
     "output_type": "execute_result"
    }
   ],
   "source": [
    "cluster_id = response['JobFlowId']\n",
    "cluster_id"
   ]
  },
  {
   "cell_type": "markdown",
   "id": "a7054718",
   "metadata": {},
   "source": [
    "## Get Step ID"
   ]
  },
  {
   "cell_type": "code",
   "execution_count": 11,
   "id": "a3743881",
   "metadata": {},
   "outputs": [],
   "source": [
    "response = client.list_steps(\n",
    "    ClusterId=cluster_id,\n",
    ")"
   ]
  },
  {
   "cell_type": "code",
   "execution_count": 12,
   "id": "11a83b74",
   "metadata": {},
   "outputs": [
    {
     "data": {
      "text/plain": [
       "{'Steps': [{'Id': 's-20UO3AW9GU9LD',\n",
       "   'Name': 'run1',\n",
       "   'Config': {'Jar': 'command-runner.jar',\n",
       "    'Properties': {},\n",
       "    'Args': ['spark-submit',\n",
       "     '--deploy-mode',\n",
       "     'cluster',\n",
       "     's3://weather-data-kpde/code/02_process_s3_parquet.py']},\n",
       "   'ActionOnFailure': 'CANCEL_AND_WAIT',\n",
       "   'Status': {'State': 'PENDING',\n",
       "    'StateChangeReason': {},\n",
       "    'Timeline': {'CreationDateTime': datetime.datetime(2023, 5, 1, 19, 26, 35, 988000, tzinfo=tzlocal())}}}],\n",
       " 'ResponseMetadata': {'RequestId': 'ade74ede-e806-4a0e-ae31-1bda9db7039c',\n",
       "  'HTTPStatusCode': 200,\n",
       "  'HTTPHeaders': {'x-amzn-requestid': 'ade74ede-e806-4a0e-ae31-1bda9db7039c',\n",
       "   'content-type': 'application/x-amz-json-1.1',\n",
       "   'content-length': '346',\n",
       "   'date': 'Mon, 01 May 2023 23:28:28 GMT'},\n",
       "  'RetryAttempts': 0}}"
      ]
     },
     "execution_count": 12,
     "metadata": {},
     "output_type": "execute_result"
    }
   ],
   "source": [
    "response"
   ]
  },
  {
   "cell_type": "code",
   "execution_count": 15,
   "id": "f19b1a7c",
   "metadata": {},
   "outputs": [
    {
     "data": {
      "text/plain": [
       "'s-20UO3AW9GU9LD'"
      ]
     },
     "execution_count": 15,
     "metadata": {},
     "output_type": "execute_result"
    }
   ],
   "source": [
    "step_id = response['Steps'][0]['Id']\n",
    "step_id"
   ]
  },
  {
   "cell_type": "markdown",
   "id": "8475953e",
   "metadata": {},
   "source": [
    "## Wait"
   ]
  },
  {
   "cell_type": "code",
   "execution_count": 16,
   "id": "29622504",
   "metadata": {},
   "outputs": [],
   "source": [
    "# is the cluster running yet?\n",
    "waiter = client.get_waiter('cluster_running')\n",
    "waiter.wait(\n",
    "    ClusterId=cluster_id\n",
    ")\n",
    "print(\"Cluster is supposedly running\")"
   ]
  },
  {
   "cell_type": "code",
   "execution_count": null,
   "id": "afb29686",
   "metadata": {},
   "outputs": [],
   "source": []
  },
  {
   "cell_type": "code",
   "execution_count": 18,
   "id": "e463bb8e",
   "metadata": {},
   "outputs": [],
   "source": [
    "response_st = client.describe_cluster(\n",
    "    ClusterId=cluster_id\n",
    ")"
   ]
  },
  {
   "cell_type": "code",
   "execution_count": 19,
   "id": "ab23dbcd",
   "metadata": {},
   "outputs": [
    {
     "data": {
      "text/plain": [
       "{'Cluster': {'Id': 'j-3VNKAAJ3WMCNF',\n",
       "  'Name': 'emr-cluster-kp-0425-boto-2',\n",
       "  'Status': {'State': 'RUNNING',\n",
       "   'StateChangeReason': {'Message': 'Running step'},\n",
       "   'Timeline': {'CreationDateTime': datetime.datetime(2023, 5, 1, 19, 26, 35, 897000, tzinfo=tzlocal()),\n",
       "    'ReadyDateTime': datetime.datetime(2023, 5, 1, 19, 30, 58, 57000, tzinfo=tzlocal())}},\n",
       "  'Ec2InstanceAttributes': {'Ec2SubnetId': 'subnet-0179f300743d7583c',\n",
       "   'RequestedEc2SubnetIds': ['subnet-0179f300743d7583c'],\n",
       "   'Ec2AvailabilityZone': 'us-east-1d',\n",
       "   'RequestedEc2AvailabilityZones': [],\n",
       "   'IamInstanceProfile': 'emr-ec2-role',\n",
       "   'EmrManagedMasterSecurityGroup': 'sg-0b3081a1938c163a5',\n",
       "   'EmrManagedSlaveSecurityGroup': 'sg-0b3081a1938c163a5',\n",
       "   'AdditionalMasterSecurityGroups': [],\n",
       "   'AdditionalSlaveSecurityGroups': []},\n",
       "  'InstanceCollectionType': 'INSTANCE_GROUP',\n",
       "  'ReleaseLabel': 'emr-6.10.0',\n",
       "  'AutoTerminate': False,\n",
       "  'TerminationProtected': False,\n",
       "  'VisibleToAllUsers': True,\n",
       "  'Applications': [{'Name': 'Spark', 'Version': '3.3.1'}],\n",
       "  'Tags': [{'Key': 'for-use-with-amazon-emr-managed-policies',\n",
       "    'Value': 'true'}],\n",
       "  'ServiceRole': 'emr-role',\n",
       "  'NormalizedInstanceHours': 0,\n",
       "  'MasterPublicDnsName': 'ec2-34-228-184-58.compute-1.amazonaws.com',\n",
       "  'Configurations': [],\n",
       "  'ScaleDownBehavior': 'TERMINATE_AT_TASK_COMPLETION',\n",
       "  'KerberosAttributes': {},\n",
       "  'ClusterArn': 'arn:aws:elasticmapreduce:us-east-1:655268872845:cluster/j-3VNKAAJ3WMCNF',\n",
       "  'StepConcurrencyLevel': 1,\n",
       "  'PlacementGroups': []},\n",
       " 'ResponseMetadata': {'RequestId': 'e9a512e0-4c7d-4d7a-9a6a-94d4620c3b57',\n",
       "  'HTTPStatusCode': 200,\n",
       "  'HTTPHeaders': {'x-amzn-requestid': 'e9a512e0-4c7d-4d7a-9a6a-94d4620c3b57',\n",
       "   'content-type': 'application/x-amz-json-1.1',\n",
       "   'content-length': '1322',\n",
       "   'date': 'Mon, 01 May 2023 23:31:25 GMT'},\n",
       "  'RetryAttempts': 0}}"
      ]
     },
     "execution_count": 19,
     "metadata": {},
     "output_type": "execute_result"
    }
   ],
   "source": [
    "response_st"
   ]
  },
  {
   "cell_type": "code",
   "execution_count": null,
   "id": "6329d9c4",
   "metadata": {},
   "outputs": [],
   "source": []
  },
  {
   "cell_type": "code",
   "execution_count": null,
   "id": "feb4d3b1",
   "metadata": {},
   "outputs": [],
   "source": []
  },
  {
   "cell_type": "code",
   "execution_count": 21,
   "id": "573f79ea",
   "metadata": {},
   "outputs": [
    {
     "data": {
      "text/plain": [
       "{'Step': {'Id': 's-20UO3AW9GU9LD',\n",
       "  'Name': 'run1',\n",
       "  'Config': {'Jar': 'command-runner.jar',\n",
       "   'Properties': {},\n",
       "   'Args': ['spark-submit',\n",
       "    '--deploy-mode',\n",
       "    'cluster',\n",
       "    's3://weather-data-kpde/code/02_process_s3_parquet.py']},\n",
       "  'ActionOnFailure': 'CANCEL_AND_WAIT',\n",
       "  'Status': {'State': 'FAILED',\n",
       "   'StateChangeReason': {},\n",
       "   'FailureDetails': {'Reason': 'S3 Service Error.',\n",
       "    'Message': 'Caused by: com.amazon.ws.emr.hadoop.fs.shaded.com.amazonaws.services.s3.model.AmazonS3Exception: The specified bucket does not exist (Service: Amazon S3; Status Code: 404; Error Code: NoSuchBucket; Request ID: ADGGG858759C6JW9; S3 Extended Request ID: R1Y4109jLtetNv2MDm4wjioWF0mkbq57ATR7wmFe1+50zw4DoivYQB9TmQawGJOXNL6w0wqBt1k=; Proxy: null), S3 Extended Request ID: R1Y4109jLtetNv2MDm4wjioWF0mkbq57ATR7wmFe1+50zw4DoivYQB9TmQawGJOXNL6w0wqBt1k=',\n",
       "    'LogFile': 'Step log files on S3 are only available for clusters which have logging enabled.'},\n",
       "   'Timeline': {'CreationDateTime': datetime.datetime(2023, 5, 1, 19, 26, 35, 988000, tzinfo=tzlocal()),\n",
       "    'StartDateTime': datetime.datetime(2023, 5, 1, 19, 31, 1, 490000, tzinfo=tzlocal()),\n",
       "    'EndDateTime': datetime.datetime(2023, 5, 1, 19, 31, 26, 251000, tzinfo=tzlocal())}}},\n",
       " 'ResponseMetadata': {'RequestId': 'e5508194-f19f-43b5-ae1b-56798f3b6050',\n",
       "  'HTTPStatusCode': 200,\n",
       "  'HTTPHeaders': {'x-amzn-requestid': 'e5508194-f19f-43b5-ae1b-56798f3b6050',\n",
       "   'content-type': 'application/x-amz-json-1.1',\n",
       "   'content-length': '1003',\n",
       "   'date': 'Mon, 01 May 2023 23:32:39 GMT'},\n",
       "  'RetryAttempts': 0}}"
      ]
     },
     "execution_count": 21,
     "metadata": {},
     "output_type": "execute_result"
    }
   ],
   "source": [
    "response_step = client.describe_step(\n",
    "    ClusterId=cluster_id,\n",
    "    StepId=step_id\n",
    ")\n",
    "response_step"
   ]
  },
  {
   "cell_type": "code",
   "execution_count": 20,
   "id": "48afb1d4",
   "metadata": {},
   "outputs": [
    {
     "ename": "WaiterError",
     "evalue": "Waiter StepComplete failed: Waiter encountered a terminal failure state: For expression \"Step.Status.State\" we matched expected path: \"FAILED\"",
     "output_type": "error",
     "traceback": [
      "\u001b[0;31m---------------------------------------------------------------------------\u001b[0m",
      "\u001b[0;31mWaiterError\u001b[0m                               Traceback (most recent call last)",
      "\u001b[0;32m/tmp/ipykernel_25171/3166713482.py\u001b[0m in \u001b[0;36m<module>\u001b[0;34m\u001b[0m\n\u001b[1;32m      1\u001b[0m \u001b[0;31m# is the step complete yet?\u001b[0m\u001b[0;34m\u001b[0m\u001b[0;34m\u001b[0m\u001b[0m\n\u001b[1;32m      2\u001b[0m \u001b[0mwaiter\u001b[0m \u001b[0;34m=\u001b[0m \u001b[0mclient\u001b[0m\u001b[0;34m.\u001b[0m\u001b[0mget_waiter\u001b[0m\u001b[0;34m(\u001b[0m\u001b[0;34m'step_complete'\u001b[0m\u001b[0;34m)\u001b[0m\u001b[0;34m\u001b[0m\u001b[0;34m\u001b[0m\u001b[0m\n\u001b[0;32m----> 3\u001b[0;31m waiter.wait(\n\u001b[0m\u001b[1;32m      4\u001b[0m     \u001b[0mClusterId\u001b[0m\u001b[0;34m=\u001b[0m\u001b[0mcluster_id\u001b[0m\u001b[0;34m,\u001b[0m\u001b[0;34m\u001b[0m\u001b[0;34m\u001b[0m\u001b[0m\n\u001b[1;32m      5\u001b[0m     \u001b[0mStepId\u001b[0m\u001b[0;34m=\u001b[0m\u001b[0mstep_id\u001b[0m\u001b[0;34m,\u001b[0m\u001b[0;34m\u001b[0m\u001b[0;34m\u001b[0m\u001b[0m\n",
      "\u001b[0;32m~/.local/lib/python3.10/site-packages/botocore/waiter.py\u001b[0m in \u001b[0;36mwait\u001b[0;34m(self, **kwargs)\u001b[0m\n\u001b[1;32m     51\u001b[0m     \u001b[0;31m# method.\u001b[0m\u001b[0;34m\u001b[0m\u001b[0;34m\u001b[0m\u001b[0m\n\u001b[1;32m     52\u001b[0m     \u001b[0;32mdef\u001b[0m \u001b[0mwait\u001b[0m\u001b[0;34m(\u001b[0m\u001b[0mself\u001b[0m\u001b[0;34m,\u001b[0m \u001b[0;34m**\u001b[0m\u001b[0mkwargs\u001b[0m\u001b[0;34m)\u001b[0m\u001b[0;34m:\u001b[0m\u001b[0;34m\u001b[0m\u001b[0;34m\u001b[0m\u001b[0m\n\u001b[0;32m---> 53\u001b[0;31m         \u001b[0mWaiter\u001b[0m\u001b[0;34m.\u001b[0m\u001b[0mwait\u001b[0m\u001b[0;34m(\u001b[0m\u001b[0mself\u001b[0m\u001b[0;34m,\u001b[0m \u001b[0;34m**\u001b[0m\u001b[0mkwargs\u001b[0m\u001b[0;34m)\u001b[0m\u001b[0;34m\u001b[0m\u001b[0;34m\u001b[0m\u001b[0m\n\u001b[0m\u001b[1;32m     54\u001b[0m \u001b[0;34m\u001b[0m\u001b[0m\n\u001b[1;32m     55\u001b[0m     wait.__doc__ = WaiterDocstring(\n",
      "\u001b[0;32m~/.local/lib/python3.10/site-packages/botocore/waiter.py\u001b[0m in \u001b[0;36mwait\u001b[0;34m(self, **kwargs)\u001b[0m\n\u001b[1;32m    348\u001b[0m                     \u001b[0macceptor\u001b[0m\u001b[0;34m.\u001b[0m\u001b[0mexplanation\u001b[0m\u001b[0;34m\u001b[0m\u001b[0;34m\u001b[0m\u001b[0m\n\u001b[1;32m    349\u001b[0m                 )\n\u001b[0;32m--> 350\u001b[0;31m                 raise WaiterError(\n\u001b[0m\u001b[1;32m    351\u001b[0m                     \u001b[0mname\u001b[0m\u001b[0;34m=\u001b[0m\u001b[0mself\u001b[0m\u001b[0;34m.\u001b[0m\u001b[0mname\u001b[0m\u001b[0;34m,\u001b[0m\u001b[0;34m\u001b[0m\u001b[0;34m\u001b[0m\u001b[0m\n\u001b[1;32m    352\u001b[0m                     \u001b[0mreason\u001b[0m\u001b[0;34m=\u001b[0m\u001b[0mreason\u001b[0m\u001b[0;34m,\u001b[0m\u001b[0;34m\u001b[0m\u001b[0;34m\u001b[0m\u001b[0m\n",
      "\u001b[0;31mWaiterError\u001b[0m: Waiter StepComplete failed: Waiter encountered a terminal failure state: For expression \"Step.Status.State\" we matched expected path: \"FAILED\""
     ]
    }
   ],
   "source": [
    "# is the step complete yet?\n",
    "waiter = client.get_waiter('step_complete')\n",
    "waiter.wait(\n",
    "    ClusterId=cluster_id,\n",
    "    StepId=step_id,\n",
    ")\n",
    "print(\"Step is complete\")"
   ]
  },
  {
   "cell_type": "code",
   "execution_count": 22,
   "id": "2ecc3f2e",
   "metadata": {},
   "outputs": [],
   "source": [
    "# is the cluster terminated yet?\n",
    "waiter = client.get_waiter('cluster_terminated')\n",
    "waiter.wait(\n",
    "    ClusterId=cluster_id\n",
    ")"
   ]
  }
 ],
 "metadata": {
  "kernelspec": {
   "display_name": "Python 3 (ipykernel)",
   "language": "python",
   "name": "python3"
  },
  "language_info": {
   "codemirror_mode": {
    "name": "ipython",
    "version": 3
   },
   "file_extension": ".py",
   "mimetype": "text/x-python",
   "name": "python",
   "nbconvert_exporter": "python",
   "pygments_lexer": "ipython3",
   "version": "3.10.6"
  }
 },
 "nbformat": 4,
 "nbformat_minor": 5
}
