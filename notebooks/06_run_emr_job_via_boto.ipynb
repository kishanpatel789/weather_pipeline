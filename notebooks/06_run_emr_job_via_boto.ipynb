{
 "cells": [
  {
   "cell_type": "markdown",
   "id": "a1467e00",
   "metadata": {},
   "source": [
    "# Run EMR Job via Boto\n",
    "Objective: Develop code to execute EMR job using Boto alone.  \n",
    "https://boto3.amazonaws.com/v1/documentation/api/latest/reference/services/emr.html"
   ]
  },
  {
   "cell_type": "code",
   "execution_count": 1,
   "id": "8f12f52a",
   "metadata": {},
   "outputs": [],
   "source": [
    "import boto3"
   ]
  },
  {
   "cell_type": "code",
   "execution_count": 5,
   "id": "1fe547ab",
   "metadata": {},
   "outputs": [],
   "source": [
    "client = boto3.session.Session(profile_name='default').client('emr')"
   ]
  },
  {
   "cell_type": "code",
   "execution_count": 7,
   "id": "23bce73e",
   "metadata": {},
   "outputs": [
    {
     "data": {
      "text/plain": [
       "{'Clusters': [{'Id': 'j-3NO2D6LP8TVCS',\n",
       "   'Name': 'emr-kp',\n",
       "   'Status': {'State': 'TERMINATED',\n",
       "    'StateChangeReason': {'Code': 'USER_REQUEST',\n",
       "     'Message': 'Terminated by user request'},\n",
       "    'Timeline': {'CreationDateTime': datetime.datetime(2023, 4, 19, 6, 42, 28, 698000, tzinfo=tzlocal()),\n",
       "     'ReadyDateTime': datetime.datetime(2023, 4, 19, 6, 46, 57, 88000, tzinfo=tzlocal()),\n",
       "     'EndDateTime': datetime.datetime(2023, 4, 19, 6, 52, 36, 573000, tzinfo=tzlocal())}},\n",
       "   'NormalizedInstanceHours': 8,\n",
       "   'ClusterArn': 'arn:aws:elasticmapreduce:us-east-1:655268872845:cluster/j-3NO2D6LP8TVCS'}],\n",
       " 'ResponseMetadata': {'RequestId': '0f047e40-e676-4e2d-bd11-882a6b93949f',\n",
       "  'HTTPStatusCode': 200,\n",
       "  'HTTPHeaders': {'x-amzn-requestid': '0f047e40-e676-4e2d-bd11-882a6b93949f',\n",
       "   'content-type': 'application/x-amz-json-1.1',\n",
       "   'content-length': '398',\n",
       "   'date': 'Tue, 25 Apr 2023 11:07:42 GMT'},\n",
       "  'RetryAttempts': 0}}"
      ]
     },
     "execution_count": 7,
     "metadata": {},
     "output_type": "execute_result"
    }
   ],
   "source": [
    "client.list_clusters()"
   ]
  },
  {
   "cell_type": "code",
   "execution_count": 7,
   "id": "08321206",
   "metadata": {},
   "outputs": [
    {
     "data": {
      "text/plain": [
       "{'Cluster': {'Id': 'j-3NO2D6LP8TVCS',\n",
       "  'Name': 'emr-kp',\n",
       "  'Status': {'State': 'TERMINATED',\n",
       "   'StateChangeReason': {'Code': 'USER_REQUEST',\n",
       "    'Message': 'Terminated by user request'},\n",
       "   'Timeline': {'CreationDateTime': datetime.datetime(2023, 4, 19, 6, 42, 28, 698000, tzinfo=tzlocal()),\n",
       "    'ReadyDateTime': datetime.datetime(2023, 4, 19, 6, 46, 57, 88000, tzinfo=tzlocal()),\n",
       "    'EndDateTime': datetime.datetime(2023, 4, 19, 6, 52, 36, 573000, tzinfo=tzlocal())}},\n",
       "  'Ec2InstanceAttributes': {'Ec2SubnetId': 'subnet-0179f300743d7583c',\n",
       "   'RequestedEc2SubnetIds': ['subnet-0179f300743d7583c'],\n",
       "   'Ec2AvailabilityZone': 'us-east-1d',\n",
       "   'RequestedEc2AvailabilityZones': [],\n",
       "   'IamInstanceProfile': 'emr-ec2-role',\n",
       "   'EmrManagedMasterSecurityGroup': 'sg-0b3081a1938c163a5',\n",
       "   'EmrManagedSlaveSecurityGroup': 'sg-0abb5aa1d5fad5681',\n",
       "   'AdditionalMasterSecurityGroups': [],\n",
       "   'AdditionalSlaveSecurityGroups': []},\n",
       "  'InstanceCollectionType': 'INSTANCE_GROUP',\n",
       "  'ReleaseLabel': 'emr-6.10.0',\n",
       "  'AutoTerminate': False,\n",
       "  'TerminationProtected': False,\n",
       "  'VisibleToAllUsers': True,\n",
       "  'Applications': [{'Name': 'Spark', 'Version': '3.3.1'},\n",
       "   {'Name': 'Zeppelin', 'Version': '0.10.1'}],\n",
       "  'Tags': [],\n",
       "  'ServiceRole': 'arn:aws:iam::655268872845:role/emr-role',\n",
       "  'NormalizedInstanceHours': 8,\n",
       "  'MasterPublicDnsName': 'ec2-54-164-213-221.compute-1.amazonaws.com',\n",
       "  'Configurations': [],\n",
       "  'ScaleDownBehavior': 'TERMINATE_AT_TASK_COMPLETION',\n",
       "  'KerberosAttributes': {},\n",
       "  'ClusterArn': 'arn:aws:elasticmapreduce:us-east-1:655268872845:cluster/j-3NO2D6LP8TVCS',\n",
       "  'StepConcurrencyLevel': 1,\n",
       "  'PlacementGroups': []},\n",
       " 'ResponseMetadata': {'RequestId': '9bb21027-0f7b-402f-a834-6b2b64d4668b',\n",
       "  'HTTPStatusCode': 200,\n",
       "  'HTTPHeaders': {'x-amzn-requestid': '9bb21027-0f7b-402f-a834-6b2b64d4668b',\n",
       "   'content-type': 'application/x-amz-json-1.1',\n",
       "   'content-length': '1378',\n",
       "   'date': 'Wed, 19 Apr 2023 23:37:15 GMT'},\n",
       "  'RetryAttempts': 0}}"
      ]
     },
     "execution_count": 7,
     "metadata": {},
     "output_type": "execute_result"
    }
   ],
   "source": [
    "client.describe_cluster(ClusterId='j-3NO2D6LP8TVCS')"
   ]
  },
  {
   "cell_type": "code",
   "execution_count": 15,
   "id": "73fb4d00",
   "metadata": {},
   "outputs": [],
   "source": [
    "response = client.run_job_flow(\n",
    "    Name='emr-cluster-kp-0425-boto',\n",
    "    ReleaseLabel='emr-6.10.0',\n",
    "    Instances={\n",
    "        'InstanceGroups': [\n",
    "            {\n",
    "                'Name': 'inst1',\n",
    "                'Market': 'ON_DEMAND',\n",
    "                'InstanceRole': 'MASTER',\n",
    "                'InstanceType': 'm5.xlarge',\n",
    "                'InstanceCount': 1,\n",
    "            },\n",
    "        ],\n",
    "        'KeepJobFlowAliveWhenNoSteps': True,\n",
    "        'TerminationProtected': False,\n",
    "        'Ec2SubnetId': 'subnet-0179f300743d7583c',\n",
    "        'EmrManagedMasterSecurityGroup': 'sg-0b3081a1938c163a5',\n",
    "        'EmrManagedSlaveSecurityGroup': 'sg-0b3081a1938c163a5',\n",
    "        'AdditionalMasterSecurityGroups': [],\n",
    "        'AdditionalSlaveSecurityGroups': []\n",
    "    },\n",
    "    Steps=[\n",
    "    {\n",
    "        \"Name\": \"run1\",\n",
    "        \"ActionOnFailure\": \"CANCEL_AND_WAIT\",\n",
    "        \"HadoopJarStep\": {\n",
    "            \"Jar\": \"command-runner.jar\",\n",
    "            \"Args\": [\"spark-submit\", \n",
    "                     \"--deploy-mode\", \n",
    "                     \"cluster\",\n",
    "                     \"s3://weather-data-kpde/code/02_process_s3_parquet.py\"],\n",
    "        },\n",
    "    }\n",
    "    ],\n",
    "    Applications=[{'Name': 'Spark'}],\n",
    "    VisibleToAllUsers=True,\n",
    "    JobFlowRole='emr-ec2-role',\n",
    "    ServiceRole='emr-role',\n",
    "    AutoTerminationPolicy={\n",
    "        'IdleTimeout': 1*60*60\n",
    "    }\n",
    ")"
   ]
  },
  {
   "cell_type": "code",
   "execution_count": 16,
   "id": "64b0fb1e",
   "metadata": {},
   "outputs": [
    {
     "data": {
      "text/plain": [
       "{'JobFlowId': 'j-LGO98Y54966M',\n",
       " 'ClusterArn': 'arn:aws:elasticmapreduce:us-east-1:655268872845:cluster/j-LGO98Y54966M',\n",
       " 'ResponseMetadata': {'RequestId': '7030c1c1-71d4-4d62-b687-a18c54806691',\n",
       "  'HTTPStatusCode': 200,\n",
       "  'HTTPHeaders': {'x-amzn-requestid': '7030c1c1-71d4-4d62-b687-a18c54806691',\n",
       "   'content-type': 'application/x-amz-json-1.1',\n",
       "   'content-length': '116',\n",
       "   'date': 'Tue, 25 Apr 2023 11:25:10 GMT'},\n",
       "  'RetryAttempts': 0}}"
      ]
     },
     "execution_count": 16,
     "metadata": {},
     "output_type": "execute_result"
    }
   ],
   "source": [
    "response"
   ]
  },
  {
   "cell_type": "code",
   "execution_count": null,
   "id": "fbcdfb96",
   "metadata": {},
   "outputs": [],
   "source": []
  }
 ],
 "metadata": {
  "kernelspec": {
   "display_name": "Python 3 (ipykernel)",
   "language": "python",
   "name": "python3"
  },
  "language_info": {
   "codemirror_mode": {
    "name": "ipython",
    "version": 3
   },
   "file_extension": ".py",
   "mimetype": "text/x-python",
   "name": "python",
   "nbconvert_exporter": "python",
   "pygments_lexer": "ipython3",
   "version": "3.10.6"
  }
 },
 "nbformat": 4,
 "nbformat_minor": 5
}
